{
 "cells": [
  {
   "cell_type": "code",
   "execution_count": 1,
   "metadata": {},
   "outputs": [],
   "source": [
    "import os\n",
    "import sys\n",
    "import pandas as pd\n",
    "import numpy as np\n",
    "import matplotlib.pyplot as plt\n",
    "import seaborn as sns"
   ]
  },
  {
   "cell_type": "code",
   "execution_count": 2,
   "metadata": {},
   "outputs": [],
   "source": [
    "from src.utils.general import get_db_conn, get_boto3_session, load_model_s3, load_matrix_s3\n",
    "from src.utils import project_constants as constants"
   ]
  },
  {
   "cell_type": "code",
   "execution_count": 3,
   "metadata": {},
   "outputs": [],
   "source": [
    "cred_file = '../conf/local/credentials.yaml'\n",
    "db_conn=get_db_conn(cred_file)"
   ]
  },
  {
   "cell_type": "markdown",
   "metadata": {},
   "source": [
    "**Goal**\n",
    "\n",
    "The overall goal of this notebook is to comeup with a strategy to clean up old triage experiments withtout disrupting currently used ones. \n",
    "\n",
    "The biggest space-hog are the `test_results.predictions` and `train_predictions.predictions` tables. If we can identify the `model_ids` \n"
   ]
  },
  {
   "cell_type": "markdown",
   "metadata": {},
   "source": [
    "#### Experiment hashes to remove\n",
    "\n",
    "We can remove details about experiments based on a reference date, or based on model comments."
   ]
  },
  {
   "cell_type": "markdown",
   "metadata": {},
   "source": [
    "**Using a model comment**"
   ]
  },
  {
   "cell_type": "code",
   "execution_count": 4,
   "metadata": {},
   "outputs": [],
   "source": [
    "# comm = 'initial_model_bill_passage'\n",
    "\n",
    "# q = \"\"\"\n",
    "#     select \n",
    "#         experiment_hash\n",
    "#     from triage_metadata.experiments\n",
    "#     where config ->> 'model_comment' = '{comment_to_remove}'\n",
    "# \"\"\".format(\n",
    "#     comment_to_remove=comm\n",
    "# )\n",
    "\n",
    "# exp_hashes_to_remove = pd.read_sql(q, db_conn)['experiment_hash'].tolist()"
   ]
  },
  {
   "cell_type": "markdown",
   "metadata": {},
   "source": [
    "**Using a reference date**"
   ]
  },
  {
   "cell_type": "code",
   "execution_count": 14,
   "metadata": {},
   "outputs": [],
   "source": [
    "ref_date = '2020-12-01'\n",
    "q = \"\"\"\n",
    "    select \n",
    "        distinct experiment_hash \n",
    "    from triage_metadata.experiment_runs where start_time < '{}';\n",
    "\n",
    "\"\"\".format(ref_date)\n",
    "\n",
    "exp_hashes_to_remove = pd.read_sql(q, db_conn)['experiment_hash'].tolist()"
   ]
  },
  {
   "cell_type": "code",
   "execution_count": 15,
   "metadata": {},
   "outputs": [
    {
     "name": "stdout",
     "output_type": "stream",
     "text": [
      "['0e0da3905b34ab79a64b953673fd3d44', 'f454b49de52e651092235dcca538a627', '86de53310a3a08734b4a2ea5f3187aca', '8698e10f76c5e49ebc677f3063673646', '9b8574981640a3437dfaec643033d21d', '4b764fd0f77baf29bfcfa063f13b4683', '22a1d6f553479cb800205dcbcd364114', 'ba00513377f62d760ad3683215c15562', '34f048b42874e7abe23a0d87af9e7e95', '2ad4c1c4c1abd01ca5d84d57858c6a5d', '04ba097c1eeb4efd256953d339e22f1a', 'a04fee8ac7acfd268900513656260d29', 'ea790bbe28633ca9b6afd325dc3d21a9', 'd0290955199da63495f6e1c947a5b898', 'bb168764edcb5c27955514507eeb946f', 'a293552cca7f83500213ff2e397d8c61', 'cf2b49cfb1b9b4432bd59ffb3fe1bfca', '293e223b92fc2faa530204c98bf878a6', '7997e25e151e591e419efd78a899ceab', 'a8d9969b71442c1ca2188f05c422c6fe', 'e4aac155e1f12d4dd26671f5fe635820', '03105a6bbc33827324e43d524fdc3a72', '2f519b99756dd7ef7200d309985ea485', '785a3b93672acdc10da0dea563bce9d3', '59b005eef785c6b2ef27a22a240881ee', 'a0515c663d3d59c1904e5bd0c8ccc259', '6ac911beae0a5e3be2e8c4af8e1e0625', 'e6ead72c9c88fe81d3ee78f35eb49816', 'ded54e195c69c0f3dcbfb4a5ff20b0b0', '1b6b617129c037a3e0a0b03a1c8b930f', '3a70f27a6f9396584bc8e00c6a91079e', 'caaa0455baeff817a3f488a0dcf3bd77', '6ba9c4322ba9b1628434dd7d19f9996f', '097fe2024d55da2ae6d6cd5a7e5ec85a', '8281c9e14c6a93383939ed34af66ffa2', '0ab3b34379e424e86fdb452037517698', '57124e8a640404a91019161493ffbd17', 'a436355af2b912d97c4bf7f6affab994', '1127fb5fb05957661ee80de27574256e', '4fa16a53236bc570e0feba2015f6b612', '747cbdc1617d46a295c36cc97e73c1e7', '49dd84dd4c5b9440457d827958a265d4', 'e1c7d3511df2731c3efd89de1919aa25', '858f2aefe25ed9b857b98f2d6d103dbe', 'b5943fe203f5097a64ad00da51f11544', 'f38b7cc67fb66ecbc1db822119b7e4cc', '76195df7fff44d235b1ea4e5be001ffe', 'b838426db97d38c5fc2c4cd97f044daa', '9fdd3c6272c44528e55c25620c1e5dbd', '4819228fb9c15aa93bc6add273db373b', '19d7ec8b6d8edbb466595f3f5573aa46', 'b045af84cd13830f9b43ce5125ecac0b', 'c7ede237ae45998eea0d49b1aeefb1c1', '448e05c87db3b1b1348d3f4cc2278a03', 'db9d85443fffa8271b89c5839e35b0aa', '3ca4be408f0430537e230b0434bc8ed2', 'd58cd1b9eaeda1f1cd4ee46d3d27c660', '2ccc20a87b641336a633e54086e1a0fe', '6e0363b6b29cc8f320b53bee954dfbf2', 'fc29d61d9738c0d8325c6fd7977060a1', 'a46459bbe671f255514871a8b19b98b1', '4e0e65c9d31bfc2cf0095d7f38702f69', '8a39fdd3e2fa08b9a27e6ce4019190f3', '7389d10b8dc50df0aea8a1ffcfea0dfb', 'a08af470634f60ee4b4aefa93cfb6c77', '983b31832027c89308124088c3993c2d', 'cce96a76cdb14119b965277a980b4775', '571acb83b8313ff0a964f06e546b84ea', '3da6bd38dcf4559acc990c073b9240d8', 'e41224b318e41b3fe06745b647bede80', '2c7968abe75677a5b481763e3b97883b', 'b98b52a6243c39040450b7bdcec8370d', '39bbcefa019220970be7736dfdad8150', '55f4e8f38b38c6fb22fa3e38837a066f', 'fe89e4ef1f23383dbae073bee962d850', '7c1b7942c89b528ff3c926f6e921d095', 'cb2a83acced69d750b6ca06557a29813', '9bd4e7cf2a8fe6ed1daf4d29213c5b85', 'da86706b13f135c78857b7452b44a59b', '9a126e73475397827ea30e1c105fb56f', '329a286ff3c1e071325d1b7489ca6b08', '5895ab4474a7c32c078cdab23e5c4db7', 'f7eb942737254f2d1f4f46275e6960dc', 'ef18bd71e421b2934910cd4f576a13aa', '03de83bcfd3b7d1da5a0495ab141ecfb', '607be13020daf7d3416e26fb92295c48', '8c3f17ffad8f9a45b9a5d689c0bcd79d', '57e0e8c6a77ebdd8309d785cbe190312', '35d9d72e7e461124143999933725b16d', '46b848f9002986d7c7c8be95aa3b9d45', '88d59d68b471f27777d81f33509be234', '635db564a96bef1fc7c8a3ff2920792e', '4cd21cae45127e5a0c97810c9a2db3b1', '52293c48c724c9170c4ddeb8753ab845', '447fb7311681c6ffafeffe088d8be0a4', 'eaa2ff5128a80b3b219eaae23be0c962', '8a33d6bb722bcadc61359f3f0cb59830', '0306a3e89cfba8e8d55b281d83f09849', '597d6e6e464e9d03a7e470b33460f80f', 'da981338d57f59cf2cb3cc785c50d78a', 'caa33786dc99c20846249d819b9f1ec7', 'ffd0338febdc03e861b5d841408b0a62', '9c1250a931608ee9e2063c6eb7b7deb3', 'bc71b2da1ad66936b5cd1a967185bb40', '7fee0089f141315423d105a6b14c6fda', 'b46a01d51e0c4b511e4a1aacd182a811', '41828781c8c19358ba48490ad7bf2b3e', '70c57772774b9699ec448fffa0267d8d', 'e44728495961b84f7e83ba3d26dab82e', '06e5c8c275e3ee4e11ca81d3ddf17c5e', 'c95c4f23a901ff2de6f5f428c9c5622f', '4f228ad7a11c5bf037142d3fe6454f62', 'b8e19ddd06186869c73dae070e5b4c69', '178028e4e0426dc21e9e2d813740ac30', '7a12714b327a245ef3249d0852cc7ec2', '3fb255b21c46c99c9888bbca4ebb06c2', '27a169dd3cada0f6cce7b17d32dc73bc', '054eda41531df231b0fbc8391fba0a90', '403d41ae22ff1a8a95a7fce7fef4f87f', 'bda7e2dbf23215a1508ea0af6a43fe51', '6218e6719b69e4dc0d80bd3f41cc9213', 'ff7bce4e7cc51c144a36f6b3d6a8fdba', '9f3ee048622203e11541f82f91f4ccf3', '7cc21e7f85b90371465d5cd3dc60eaa7', 'fdb2ee5499b30d53048a7253cc5be36f', '662fe267838d385908c9dcafd9770aa5', '178c1c029fdbfd4d1438ed1dc2e324fe', '41f852bd0a4bf05efa039a6f87e2fbab', '277eccfe7a4f30c4112e67971e76d836', '536893f7c87d3a9d7895ee998f5955b1', '8fdacc329479b8b07f0ddab1dfc9ac73', '486a2580712e9f449dbf5a24086fcc9b', '289734e742c61e0ca9b98240256780dc', '5cc3d45d7c87c8fe0203e89adbde15a4', '28256a4b79acf4671184878f932a5280', '4811c88f61804692e5c0d0953a5ef0bc', '231d9910150192f67ab1e16b616f446f', '15918914cb2d3c8fc6e0dcecfb5af9ae', '0d6c5365e65f1f93a94821e21a770999']\n"
     ]
    }
   ],
   "source": [
    "print(exp_hashes_to_remove)"
   ]
  },
  {
   "cell_type": "markdown",
   "metadata": {},
   "source": [
    "**Models built by those experiments**"
   ]
  },
  {
   "cell_type": "code",
   "execution_count": 16,
   "metadata": {},
   "outputs": [],
   "source": [
    "q = \"\"\"\n",
    "    select\n",
    "        model_id, model_hash \n",
    "    from triage_metadata.models \n",
    "    where \n",
    "    built_by_experiment in {}\n",
    "\"\"\".format(tuple(exp_hashes_to_remove))\n",
    "           \n",
    "related_models = pd.read_sql(q, db_conn)"
   ]
  },
  {
   "cell_type": "code",
   "execution_count": 17,
   "metadata": {},
   "outputs": [],
   "source": [
    "# q = \"\"\"\n",
    "#     select\n",
    "#         distinct model_hash\n",
    "#     from triage_metadata.experiment_models\n",
    "#     where experiment_hash in {}\n",
    "# \"\"\".format(tuple(exp_hashes_to_remove))\n",
    "# related_models2 = pd.read_sql(q, db_conn)"
   ]
  },
  {
   "cell_type": "code",
   "execution_count": 18,
   "metadata": {},
   "outputs": [
    {
     "data": {
      "text/html": [
       "<div>\n",
       "<style scoped>\n",
       "    .dataframe tbody tr th:only-of-type {\n",
       "        vertical-align: middle;\n",
       "    }\n",
       "\n",
       "    .dataframe tbody tr th {\n",
       "        vertical-align: top;\n",
       "    }\n",
       "\n",
       "    .dataframe thead th {\n",
       "        text-align: right;\n",
       "    }\n",
       "</style>\n",
       "<table border=\"1\" class=\"dataframe\">\n",
       "  <thead>\n",
       "    <tr style=\"text-align: right;\">\n",
       "      <th></th>\n",
       "      <th>model_id</th>\n",
       "      <th>model_hash</th>\n",
       "    </tr>\n",
       "  </thead>\n",
       "  <tbody>\n",
       "    <tr>\n",
       "      <th>0</th>\n",
       "      <td>1</td>\n",
       "      <td>4cfaa7ce6504a563652edf627eb33666</td>\n",
       "    </tr>\n",
       "    <tr>\n",
       "      <th>1</th>\n",
       "      <td>2</td>\n",
       "      <td>9c22e2b58f87093e36758989b7d995a3</td>\n",
       "    </tr>\n",
       "    <tr>\n",
       "      <th>2</th>\n",
       "      <td>3</td>\n",
       "      <td>2d371ee1b60cf6892088c7ecbdb2460c</td>\n",
       "    </tr>\n",
       "    <tr>\n",
       "      <th>3</th>\n",
       "      <td>4</td>\n",
       "      <td>3b4c38fc72f9f98279596e0eacfb7915</td>\n",
       "    </tr>\n",
       "    <tr>\n",
       "      <th>4</th>\n",
       "      <td>5</td>\n",
       "      <td>a2e46b7774472a439da9874dfd7c6ec0</td>\n",
       "    </tr>\n",
       "    <tr>\n",
       "      <th>...</th>\n",
       "      <td>...</td>\n",
       "      <td>...</td>\n",
       "    </tr>\n",
       "    <tr>\n",
       "      <th>7357</th>\n",
       "      <td>7358</td>\n",
       "      <td>ce8aa3f4eed5444e8f0e23422a74c434</td>\n",
       "    </tr>\n",
       "    <tr>\n",
       "      <th>7358</th>\n",
       "      <td>7359</td>\n",
       "      <td>f09b88f4e20d35194082c45143debad8</td>\n",
       "    </tr>\n",
       "    <tr>\n",
       "      <th>7359</th>\n",
       "      <td>7360</td>\n",
       "      <td>7c17f70fa1052f51aee61cde08f1cdc8</td>\n",
       "    </tr>\n",
       "    <tr>\n",
       "      <th>7360</th>\n",
       "      <td>7361</td>\n",
       "      <td>8b1924032b2ec08cc186d4ae96755a1b</td>\n",
       "    </tr>\n",
       "    <tr>\n",
       "      <th>7361</th>\n",
       "      <td>7362</td>\n",
       "      <td>1a4dc81ee538c9ae6c9fb5cc54bffa99</td>\n",
       "    </tr>\n",
       "  </tbody>\n",
       "</table>\n",
       "<p>7362 rows × 2 columns</p>\n",
       "</div>"
      ],
      "text/plain": [
       "      model_id                        model_hash\n",
       "0            1  4cfaa7ce6504a563652edf627eb33666\n",
       "1            2  9c22e2b58f87093e36758989b7d995a3\n",
       "2            3  2d371ee1b60cf6892088c7ecbdb2460c\n",
       "3            4  3b4c38fc72f9f98279596e0eacfb7915\n",
       "4            5  a2e46b7774472a439da9874dfd7c6ec0\n",
       "...        ...                               ...\n",
       "7357      7358  ce8aa3f4eed5444e8f0e23422a74c434\n",
       "7358      7359  f09b88f4e20d35194082c45143debad8\n",
       "7359      7360  7c17f70fa1052f51aee61cde08f1cdc8\n",
       "7360      7361  8b1924032b2ec08cc186d4ae96755a1b\n",
       "7361      7362  1a4dc81ee538c9ae6c9fb5cc54bffa99\n",
       "\n",
       "[7362 rows x 2 columns]"
      ]
     },
     "execution_count": 18,
     "metadata": {},
     "output_type": "execute_result"
    }
   ],
   "source": [
    "related_models"
   ]
  },
  {
   "cell_type": "markdown",
   "metadata": {},
   "source": [
    "All of these models can't be removed. We need to check whether the models are used in other potentially important experiments"
   ]
  },
  {
   "cell_type": "code",
   "execution_count": 19,
   "metadata": {},
   "outputs": [],
   "source": [
    "q = \"\"\"\n",
    "   select model_hash from triage_metadata.experiment_models where model_hash in {}\n",
    "   group by model_hash having count(*) > 1\n",
    "\"\"\".format(\n",
    "    tuple(related_models['model_hash'].tolist())\n",
    ")\n",
    "models_with_multiple_exps = pd.read_sql(q, db_conn)['model_hash'].tolist()"
   ]
  },
  {
   "cell_type": "markdown",
   "metadata": {},
   "source": [
    "**Checking whether the models that appear in multiple experiments are still useful**"
   ]
  },
  {
   "cell_type": "code",
   "execution_count": 20,
   "metadata": {},
   "outputs": [],
   "source": [
    "q = \"\"\"\n",
    "    select distinct experiment_hash from triage_metadata.experiment_models where model_hash='{}'\n",
    "\"\"\"\n",
    "\n",
    "for mod in models_with_multiple_exps:\n",
    "    # experiments that contain the model\n",
    "    exps = pd.read_sql(q.format(mod), db_conn)['experiment_hash'].tolist()\n",
    "    \n",
    "    for e in exps:\n",
    "        if e not in exp_hashes_to_remove:\n",
    "            # removing the model from the list of models to be deleted \n",
    "            msk = related_models['model_hash'] == mod\n",
    "            related_models = related_models[~msk]"
   ]
  },
  {
   "cell_type": "markdown",
   "metadata": {},
   "source": [
    "**Matrices**"
   ]
  },
  {
   "cell_type": "code",
   "execution_count": 34,
   "metadata": {},
   "outputs": [],
   "source": [
    "q = \"\"\"\n",
    "    select\n",
    "        * \n",
    "    from triage_metadata.matrices \n",
    "    where \n",
    "    built_by_experiment in {}\n",
    "\"\"\".format(tuple(exp_hashes_to_remove))\n",
    "           \n",
    "related_matrices = pd.read_sql(q, db_conn)"
   ]
  },
  {
   "cell_type": "code",
   "execution_count": 35,
   "metadata": {},
   "outputs": [],
   "source": [
    "q = \"\"\"\n",
    "   select matrix_uuid from triage_metadata.experiment_matrices where matrix_uuid in {}\n",
    "   group by matrix_uuid having count(*) > 1\n",
    "\"\"\".format(\n",
    "    tuple(related_matrices['matrix_uuid'].tolist())\n",
    ")\n",
    "mats_with_multiple_exps = pd.read_sql(q, db_conn)['matrix_uuid'].tolist()"
   ]
  },
  {
   "cell_type": "code",
   "execution_count": 37,
   "metadata": {},
   "outputs": [],
   "source": [
    "q = \"\"\"\n",
    "    select distinct experiment_hash from triage_metadata.experiment_matrices where matrix_uuid='{}'\n",
    "\"\"\"\n",
    "\n",
    "for mat in mats_with_multiple_exps:\n",
    "    # experiments that contain the matrix\n",
    "    exps = pd.read_sql(q.format(mat), db_conn)['experiment_hash'].tolist()\n",
    "    \n",
    "    for e in exps:\n",
    "        if e not in exp_hashes_to_remove:\n",
    "            # removing the model from the list of models to be deleted \n",
    "            msk = related_matrices['matrix_uuid'] == mat\n",
    "            related_matrices = related_matrices[~msk]"
   ]
  },
  {
   "cell_type": "markdown",
   "metadata": {},
   "source": [
    "### Removing Predictions/ evaluations\n",
    "\n",
    "We can remove the predictions for the model ids that are only related to the experiments we are not interested in"
   ]
  },
  {
   "cell_type": "code",
   "execution_count": 38,
   "metadata": {},
   "outputs": [
    {
     "data": {
      "text/plain": [
       "(1146, 2)"
      ]
     },
     "execution_count": 38,
     "metadata": {},
     "output_type": "execute_result"
    }
   ],
   "source": [
    "related_models.shape"
   ]
  },
  {
   "cell_type": "code",
   "execution_count": 39,
   "metadata": {},
   "outputs": [],
   "source": [
    "# q = \"\"\"\n",
    "#     delete from test_results.predictions where model_id in {}\n",
    "# \"\"\".format(\n",
    "#     tuple(related_models['model_id'].tolist())\n",
    "# )\n",
    "\n",
    "# cursor = db_conn.cursor()\n",
    "\n",
    "# cursor.execute(q)"
   ]
  },
  {
   "cell_type": "code",
   "execution_count": 40,
   "metadata": {},
   "outputs": [],
   "source": [
    "# q = \"\"\"\n",
    "#     delete from test_results.evaluations where model_id in {}\n",
    "# \"\"\".format(\n",
    "#     tuple(related_models['model_id'].tolist())\n",
    "# )\n",
    "\n",
    "# cursor = db_conn.cursor()\n",
    "\n",
    "# cursor.execute(q)\n",
    "# db_conn.commit()"
   ]
  },
  {
   "cell_type": "code",
   "execution_count": 21,
   "metadata": {},
   "outputs": [],
   "source": [
    "q = \"\"\"\n",
    "    delete from train_results.predictions where model_id in {}\n",
    "\"\"\".format(\n",
    "    tuple(related_models['model_id'].tolist())\n",
    ")\n",
    "\n",
    "cursor = db_conn.cursor()\n",
    "\n",
    "cursor.execute(q)\n",
    "db_conn.commit()"
   ]
  },
  {
   "cell_type": "code",
   "execution_count": 22,
   "metadata": {},
   "outputs": [],
   "source": [
    "q = \"\"\"\n",
    "    delete from train_results.evaluations where model_id in {}\n",
    "\"\"\".format(\n",
    "    tuple(related_models['model_id'].tolist())\n",
    ")\n",
    "\n",
    "cursor = db_conn.cursor()\n",
    "\n",
    "cursor.execute(q)\n",
    "db_conn.commit()"
   ]
  },
  {
   "cell_type": "markdown",
   "metadata": {},
   "source": [
    "#### Removing models/matrices"
   ]
  },
  {
   "cell_type": "code",
   "execution_count": 14,
   "metadata": {},
   "outputs": [
    {
     "ename": "ForeignKeyViolation",
     "evalue": "update or delete on table \"models\" violates foreign key constraint \"feature_importances_model_id_fkey\" on table \"feature_importances\"\nDETAIL:  Key (model_id)=(1) is still referenced from table \"feature_importances\".\n",
     "output_type": "error",
     "traceback": [
      "\u001b[0;31m---------------------------------------------------------------------------\u001b[0m",
      "\u001b[0;31mForeignKeyViolation\u001b[0m                       Traceback (most recent call last)",
      "\u001b[0;32m<ipython-input-14-eb84ae9a653e>\u001b[0m in \u001b[0;36m<module>\u001b[0;34m\u001b[0m\n\u001b[1;32m      6\u001b[0m \u001b[0;34m\u001b[0m\u001b[0m\n\u001b[1;32m      7\u001b[0m \u001b[0mcursor\u001b[0m \u001b[0;34m=\u001b[0m \u001b[0mdb_conn\u001b[0m\u001b[0;34m.\u001b[0m\u001b[0mcursor\u001b[0m\u001b[0;34m(\u001b[0m\u001b[0;34m)\u001b[0m\u001b[0;34m\u001b[0m\u001b[0;34m\u001b[0m\u001b[0m\n\u001b[0;32m----> 8\u001b[0;31m \u001b[0mcursor\u001b[0m\u001b[0;34m.\u001b[0m\u001b[0mexecute\u001b[0m\u001b[0;34m(\u001b[0m\u001b[0mq\u001b[0m\u001b[0;34m)\u001b[0m\u001b[0;34m\u001b[0m\u001b[0;34m\u001b[0m\u001b[0m\n\u001b[0m",
      "\u001b[0;31mForeignKeyViolation\u001b[0m: update or delete on table \"models\" violates foreign key constraint \"feature_importances_model_id_fkey\" on table \"feature_importances\"\nDETAIL:  Key (model_id)=(1) is still referenced from table \"feature_importances\".\n"
     ]
    }
   ],
   "source": [
    "# q = \"\"\"\n",
    "#     delete from triage_metadata.models where model_id in {}\n",
    "# \"\"\".format(\n",
    "#    tuple(related_models['model_id'].tolist())\n",
    "# )\n",
    "\n",
    "# cursor = db_conn.cursor()\n",
    "# cursor.execute(q)"
   ]
  },
  {
   "cell_type": "code",
   "execution_count": null,
   "metadata": {},
   "outputs": [],
   "source": []
  }
 ],
 "metadata": {
  "kernelspec": {
   "display_name": "aclu",
   "language": "python",
   "name": "aclu"
  },
  "language_info": {
   "codemirror_mode": {
    "name": "ipython",
    "version": 3
   },
   "file_extension": ".py",
   "mimetype": "text/x-python",
   "name": "python",
   "nbconvert_exporter": "python",
   "pygments_lexer": "ipython3",
   "version": "3.7.7"
  }
 },
 "nbformat": 4,
 "nbformat_minor": 4
}
