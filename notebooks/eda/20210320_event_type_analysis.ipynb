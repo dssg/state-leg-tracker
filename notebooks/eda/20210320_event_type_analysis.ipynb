{
 "cells": [
  {
   "cell_type": "code",
   "execution_count": 4,
   "metadata": {},
   "outputs": [],
   "source": [
    "import os\n",
    "import re\n",
    "import pandas as pd\n",
    "from datetime import datetime\n",
    "import seaborn as sns\n",
    "import joblib\n",
    "import matplotlib.pyplot as plt\n",
    "\n",
    "from src.utils.general import get_db_conn\n",
    "from src.pipeline.text_preprocessing import run_preprocessing_steps"
   ]
  },
  {
   "cell_type": "code",
   "execution_count": 5,
   "metadata": {},
   "outputs": [],
   "source": [
    "creds_folder = '../conf/local/'\n",
    "fpath = os.path.join(creds_folder, 'credentials.yaml')\n",
    "db_conn = get_db_conn(fpath)"
   ]
  },
  {
   "cell_type": "code",
   "execution_count": 9,
   "metadata": {},
   "outputs": [],
   "source": [
    "q = \"select * from clean_2.bill_events where event_date > '2020-01-01'\"\n",
    "events = pd.read_sql(q, db_conn)"
   ]
  },
  {
   "cell_type": "code",
   "execution_count": 10,
   "metadata": {},
   "outputs": [],
   "source": [
    "preprocessing_steps = [\n",
    "    'remove_numbers', 'remove_punctuation', 'remove_stop_words', 'lemmatize'\n",
    "]"
   ]
  },
  {
   "cell_type": "code",
   "execution_count": 11,
   "metadata": {},
   "outputs": [
    {
     "name": "stdout",
     "output_type": "stream",
     "text": [
      "0                                      Approved PL c\n",
      "1    Reported Senate Committee Amendments nd Reading\n",
      "2                                      Passed Senate\n",
      "3     Received Assembly without Reference nd Reading\n",
      "4                 Passed Assembly Passed Both Houses\n",
      "Name: preprocessed, dtype: object\n"
     ]
    }
   ],
   "source": [
    "preprocessed = run_preprocessing_steps(\n",
    "    texts=events['action'],\n",
    "    processing_steps=preprocessing_steps\n",
    ")"
   ]
  },
  {
   "cell_type": "code",
   "execution_count": 12,
   "metadata": {},
   "outputs": [
    {
     "data": {
      "text/plain": [
       "0                                      Approved PL c\n",
       "1    Reported Senate Committee Amendments nd Reading\n",
       "2                                      Passed Senate\n",
       "3     Received Assembly without Reference nd Reading\n",
       "4                 Passed Assembly Passed Both Houses\n",
       "Name: preprocessed, dtype: object"
      ]
     },
     "execution_count": 12,
     "metadata": {},
     "output_type": "execute_result"
    }
   ],
   "source": []
  },
  {
   "cell_type": "code",
   "execution_count": null,
   "metadata": {},
   "outputs": [],
   "source": []
  }
 ],
 "metadata": {
  "kernelspec": {
   "display_name": "aclu",
   "language": "python",
   "name": "aclu"
  },
  "language_info": {
   "codemirror_mode": {
    "name": "ipython",
    "version": 3
   },
   "file_extension": ".py",
   "mimetype": "text/x-python",
   "name": "python",
   "nbconvert_exporter": "python",
   "pygments_lexer": "ipython3",
   "version": "3.7.7"
  }
 },
 "nbformat": 4,
 "nbformat_minor": 4
}
