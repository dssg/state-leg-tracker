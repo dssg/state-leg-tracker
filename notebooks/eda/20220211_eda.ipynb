{
 "cells": [
  {
   "cell_type": "code",
   "execution_count": 1,
   "metadata": {},
   "outputs": [],
   "source": [
    "import os\n",
    "import pandas as pd \n",
    "from datetime import datetime\n",
    "import seaborn as sns\n",
    "from src.utils.general import get_db_conn\n",
    "import matplotlib.pyplot as plt"
   ]
  },
  {
   "cell_type": "code",
   "execution_count": 2,
   "metadata": {},
   "outputs": [],
   "source": [
    "creds_folder = '../../conf/local/'\n",
    "fpath = os.path.join(creds_folder, 'credentials.yaml')\n",
    "db_con = get_db_conn(fpath)"
   ]
  },
  {
   "cell_type": "markdown",
   "metadata": {},
   "source": [
    "#### How long does it take for a bill to get passed?"
   ]
  },
  {
   "cell_type": "code",
   "execution_count": 24,
   "metadata": {},
   "outputs": [],
   "source": [
    "q = \"\"\"\n",
    "    with passed_bills as (\n",
    "        select distinct on (bill_id) \n",
    "            bill_id , progress_date as passed_date\n",
    "        from clean.bill_progress bp\n",
    "        where \"event\" = 4\n",
    "        order by bill_id, progress_date\n",
    "    )\n",
    "    select \n",
    "        bill_id, introduced_date, passed_date, state, session_id, (passed_date - introduced_date) as days_to_pass\n",
    "    from passed_bills left join clean.bills using(bill_id)\n",
    "\"\"\"\n",
    "\n",
    "passed_bills = pd.read_sql(q, db_con)"
   ]
  },
  {
   "cell_type": "code",
   "execution_count": 25,
   "metadata": {},
   "outputs": [
    {
     "data": {
      "image/png": "[encoded data removed]",
      "text/plain": [
       "<Figure size 432x288 with 1 Axes>"
      ]
     },
     "metadata": {
      "needs_background": "light"
     },
     "output_type": "display_data"
    }
   ],
   "source": [
    "fig, ax = plt.subplots()\n",
    "sns.distplot(passed_bills['days_to_pass'], kde=False, bins=700)\n",
    "ax.set_xlim([-1, 1000])\n",
    "sns.despine()"
   ]
  },
  {
   "cell_type": "markdown",
   "metadata": {},
   "source": [
    "#### Whats the fraction of bills that pass? (approximately)"
   ]
  },
  {
   "cell_type": "code",
   "execution_count": 19,
   "metadata": {},
   "outputs": [],
   "source": [
    "q = \"select count(distinct(bill_id)) from clean.bills;\"\n",
    "\n",
    "bill_count = pd.read_sql(q, db_con).at[0, 'count']"
   ]
  },
  {
   "cell_type": "code",
   "execution_count": 23,
   "metadata": {},
   "outputs": [
    {
     "data": {
      "text/plain": [
       "0.25834410450125317"
      ]
     },
     "execution_count": 23,
     "metadata": {},
     "output_type": "execute_result"
    }
   ],
   "source": [
    "passed_percent = len(passed_bills) / bill_count\n",
    "passed_percent"
   ]
  },
  {
   "cell_type": "markdown",
   "metadata": {},
   "source": [
    "**NOTE** -- The actual figure can be slightly higher than that as we are counting bills that are still active in the denominator"
   ]
  },
  {
   "cell_type": "markdown",
   "metadata": {},
   "source": [
    "#### What percentage of bills pass within a year, given they pass?"
   ]
  },
  {
   "cell_type": "code",
   "execution_count": 26,
   "metadata": {},
   "outputs": [
    {
     "data": {
      "text/plain": [
       "0.9695906815595193"
      ]
     },
     "execution_count": 26,
     "metadata": {},
     "output_type": "execute_result"
    }
   ],
   "source": [
    "msk = passed_bills['days_to_pass'] <= 365\n",
    "\n",
    "len(passed_bills[msk]) / len(passed_bills)"
   ]
  },
  {
   "cell_type": "code",
   "execution_count": null,
   "metadata": {},
   "outputs": [],
   "source": []
  }
 ],
 "metadata": {
  "kernelspec": {
   "display_name": "aclu",
   "language": "python",
   "name": "aclu"
  },
  "language_info": {
   "codemirror_mode": {
    "name": "ipython",
    "version": 3
   },
   "file_extension": ".py",
   "mimetype": "text/x-python",
   "name": "python",
   "nbconvert_exporter": "python",
   "pygments_lexer": "ipython3",
   "version": "3.7.7"
  }
 },
 "nbformat": 4,
 "nbformat_minor": 4
}
