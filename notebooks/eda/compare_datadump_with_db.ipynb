{
 "cells": [
  {
   "cell_type": "code",
   "execution_count": null,
   "metadata": {},
   "outputs": [],
   "source": [
    "import os\n",
    "import sys\n",
    "import pandas as pd\n",
    "import numpy as np\n",
    "import matplotlib.pyplot as plt\n",
    "import seaborn as sns"
   ]
  },
  {
   "cell_type": "code",
   "execution_count": null,
   "metadata": {},
   "outputs": [],
   "source": [
    "from src.utils.general import get_db_conn, get_boto3_session, load_model_s3, load_matrix_s3\n",
    "from src.utils import project_constants as constants"
   ]
  },
  {
   "cell_type": "code",
   "execution_count": null,
   "metadata": {},
   "outputs": [],
   "source": [
    "cred_file = '../conf/local/credentials.yaml'\n",
    "db_conn=get_db_conn(cred_file)"
   ]
  },
  {
   "cell_type": "markdown",
   "metadata": {},
   "source": [
    "##### Summary of data we received from Legiscan"
   ]
  },
  {
   "cell_type": "code",
   "execution_count": null,
   "metadata": {},
   "outputs": [],
   "source": [
    "summary_file = '/mnt/data/projects/aclu_leg_tracker/legiscan_dump_20200615_processed/data_dump_summary.csv'"
   ]
  },
  {
   "cell_type": "code",
   "execution_count": null,
   "metadata": {},
   "outputs": [],
   "source": [
    "dump_summary = pd.read_csv(summary_file)"
   ]
  },
  {
   "cell_type": "markdown",
   "metadata": {},
   "source": [
    "##### Summary of what we have in the DB"
   ]
  },
  {
   "cell_type": "code",
   "execution_count": null,
   "metadata": {},
   "outputs": [],
   "source": [
    "q = \"\"\"\n",
    "    select \n",
    "        session_id, \n",
    "        max(state) as state,\n",
    "        max(session_title) as session_name,\n",
    "        max(year_start) as year_start,\n",
    "        max(year_end) as year_end,\n",
    "        count(distinct bill_id) as num_bills, \n",
    "        count(distinct doc_id) as num_texts,\n",
    "        count(distinct people_id) as num_people\n",
    "    from clean.bills left join clean.sessions using(session_id) \n",
    "        left join clean.bill_docs using(bill_id)\n",
    "            left join clean.session_people using(session_id)\n",
    "    group by session_id\n",
    "    order by state\n",
    "\"\"\""
   ]
  },
  {
   "cell_type": "code",
   "execution_count": null,
   "metadata": {},
   "outputs": [],
   "source": [
    "db_summary = pd.read_sql(q, db_conn)"
   ]
  },
  {
   "cell_type": "markdown",
   "metadata": {},
   "source": [
    "#### Comparing"
   ]
  },
  {
   "cell_type": "code",
   "execution_count": null,
   "metadata": {},
   "outputs": [],
   "source": [
    "merged_df = dump_summary.merge(db_summary, on='session_id', suffixes=('_dump', '_db'), how='left')"
   ]
  },
  {
   "cell_type": "markdown",
   "metadata": {},
   "source": [
    "**Full sessions that are missing**"
   ]
  },
  {
   "cell_type": "code",
   "execution_count": null,
   "metadata": {},
   "outputs": [],
   "source": [
    "msk = merged_df.isna().any(axis=1)\n",
    "print(len(merged_df[msk]))\n",
    "merged_df[msk]"
   ]
  },
  {
   "cell_type": "code",
   "execution_count": null,
   "metadata": {},
   "outputs": [],
   "source": [
    "len(merged_df[msk]['state_dump'].unique())"
   ]
  },
  {
   "cell_type": "markdown",
   "metadata": {},
   "source": [
    "**Incomplete Sessions**"
   ]
  },
  {
   "cell_type": "code",
   "execution_count": null,
   "metadata": {},
   "outputs": [],
   "source": [
    "merged_df['diff'] = merged_df['num_bills_dump'] - merged_df['num_bills_db']  \n",
    "msk = (merged_df['diff'] > 0) & (merged_df['state_dump'] != 'US')\n",
    "tmp = merged_df[msk].sort_values('diff', ascending=False)\n",
    "tmp\n",
    "# cols = ['state_dump', 'year_start', 'year_end', 'session_name_dump', 'num_texts_dump', 'num_texts_db', 'diff']\n"
   ]
  },
  {
   "cell_type": "code",
   "execution_count": null,
   "metadata": {},
   "outputs": [],
   "source": [
    "state_missing_bills = tmp.groupby('state_dump').sum()['diff'].sort_values(ascending=False).reset_index()"
   ]
  },
  {
   "cell_type": "code",
   "execution_count": null,
   "metadata": {},
   "outputs": [],
   "source": [
    "state_missing_bills"
   ]
  },
  {
   "cell_type": "code",
   "execution_count": null,
   "metadata": {},
   "outputs": [],
   "source": [
    "if len(state_missing_bills) != 0: \n",
    "    fig, ax = plt.subplots(figsize=(14,5))\n",
    "    sns.barplot(data=state_missing_bills, x='state_dump', y='diff', color='royalblue')\n",
    "\n",
    "    ax.set_xlabel('State')\n",
    "    ax.set_ylabel('No. Bills missing in the DB')\n",
    "    sns.despine()"
   ]
  },
  {
   "cell_type": "code",
   "execution_count": 16,
   "metadata": {},
   "outputs": [
    {
     "data": {
      "text/plain": [
       "state_dump    TNWALAVTDCWIMDORIARIDEKSNVSDUTINFLWYTXPAAZILNJ...\n",
       "diff                                                      76053\n",
       "dtype: object"
      ]
     },
     "execution_count": 16,
     "metadata": {},
     "output_type": "execute_result"
    }
   ],
   "source": [
    "state_missing_bills.sum()"
   ]
  },
  {
   "cell_type": "code",
   "execution_count": 15,
   "metadata": {},
   "outputs": [
    {
     "data": {
      "text/plain": [
       "105354"
      ]
     },
     "execution_count": 15,
     "metadata": {},
     "output_type": "execute_result"
    }
   ],
   "source": [
    "1309921 - 1204567"
   ]
  },
  {
   "cell_type": "code",
   "execution_count": null,
   "metadata": {},
   "outputs": [],
   "source": []
  }
 ],
 "metadata": {
  "kernelspec": {
   "display_name": "aclu",
   "language": "python",
   "name": "aclu"
  },
  "language_info": {
   "codemirror_mode": {
    "name": "ipython",
    "version": 3
   },
   "file_extension": ".py",
   "mimetype": "text/x-python",
   "name": "python",
   "nbconvert_exporter": "python",
   "pygments_lexer": "ipython3",
   "version": "3.7.7"
  }
 },
 "nbformat": 4,
 "nbformat_minor": 4
}
