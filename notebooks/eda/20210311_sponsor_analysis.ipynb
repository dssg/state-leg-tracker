{
 "cells": [
  {
   "cell_type": "code",
   "execution_count": 1,
   "metadata": {},
   "outputs": [],
   "source": [
    "import os\n",
    "import sys\n",
    "import pandas as pd\n",
    "import numpy as np\n",
    "import matplotlib.pyplot as plt\n",
    "import seaborn as sns"
   ]
  },
  {
   "cell_type": "code",
   "execution_count": 2,
   "metadata": {},
   "outputs": [],
   "source": [
    "from src.utils.general import get_db_conn, get_boto3_session, load_model_s3, load_matrix_s3\n",
    "from src.utils import project_constants as constants\n",
    "\n",
    "from src.bill_passage.model_analysis_functions import fetch_evaluations_models, fetch_all_evaluations_for_model"
   ]
  },
  {
   "cell_type": "code",
   "execution_count": 3,
   "metadata": {},
   "outputs": [],
   "source": [
    "cred_file = '../conf/local/credentials.yaml'\n",
    "db_conn=get_db_conn(cred_file)\n",
    "s3_session = get_boto3_session(cred_file)"
   ]
  },
  {
   "cell_type": "markdown",
   "metadata": {},
   "source": [
    "**Sponsor Distribution**"
   ]
  },
  {
   "cell_type": "code",
   "execution_count": 17,
   "metadata": {},
   "outputs": [],
   "source": [
    "q = \"\"\"\n",
    "    select bill_id, count(distinct sponsor_id) as num_sponsors from clean_2.bill_sponsors\n",
    "    group by bill_id\n",
    "    order by count(*) desc\n",
    "\"\"\"\n",
    "\n",
    "num_sponsors_bill = pd.read_sql(q, db_conn)"
   ]
  },
  {
   "cell_type": "code",
   "execution_count": 19,
   "metadata": {},
   "outputs": [
    {
     "data": {
      "text/plain": [
       "<matplotlib.axes._subplots.AxesSubplot at 0x7f081f009490>"
      ]
     },
     "execution_count": 19,
     "metadata": {},
     "output_type": "execute_result"
    },
    {
     "data": {
      "image/png": "[encoded data removed]",
      "text/plain": [
       "<Figure size 432x288 with 1 Axes>"
      ]
     },
     "metadata": {
      "needs_background": "light"
     },
     "output_type": "display_data"
    }
   ],
   "source": [
    "sns.distplot(num_sponsors_bill['num_sponsors'].head(100), kde=False, norm_hist=True, bins=100)"
   ]
  },
  {
   "cell_type": "code",
   "execution_count": 20,
   "metadata": {},
   "outputs": [],
   "source": [
    "q = \"\"\"\n",
    "    with sponsor_bills as (\n",
    "        select \n",
    "            sponsor_id, bill_id, max(case when event=4 then 1 else 0 end) as passed\n",
    "        from clean_2.bill_sponsors join clean_2.bills using(bill_id) join clean_2.bill_progress using(bill_id)\n",
    "        where introduced_date < '{as_of_date}' and progress_date < '{as_of_date}'\n",
    "        group by 1, 2\n",
    "    )\n",
    "    select \n",
    "        sponsor_id, \n",
    "        count(distinct bill_id) as num_bills,\n",
    "        sum(passed) as num_successful_bills,\n",
    "        sum(passed)::float / count(distinct bill_id) as success_rate\n",
    "    from sponsor_bills\n",
    "    group by sponsor_id\n",
    "\"\"\""
   ]
  },
  {
   "cell_type": "code",
   "execution_count": 21,
   "metadata": {},
   "outputs": [],
   "source": [
    "as_of_date = '2018-03-01'\n",
    "sponsor_success_rates = pd.read_sql(q.format(as_of_date=as_of_date), db_conn)"
   ]
  },
  {
   "cell_type": "code",
   "execution_count": 22,
   "metadata": {},
   "outputs": [
    {
     "data": {
      "text/html": [
       "<div>\n",
       "<style scoped>\n",
       "    .dataframe tbody tr th:only-of-type {\n",
       "        vertical-align: middle;\n",
       "    }\n",
       "\n",
       "    .dataframe tbody tr th {\n",
       "        vertical-align: top;\n",
       "    }\n",
       "\n",
       "    .dataframe thead th {\n",
       "        text-align: right;\n",
       "    }\n",
       "</style>\n",
       "<table border=\"1\" class=\"dataframe\">\n",
       "  <thead>\n",
       "    <tr style=\"text-align: right;\">\n",
       "      <th></th>\n",
       "      <th>sponsor_id</th>\n",
       "      <th>num_bills</th>\n",
       "      <th>num_successful_bills</th>\n",
       "      <th>success_rate</th>\n",
       "    </tr>\n",
       "  </thead>\n",
       "  <tbody>\n",
       "    <tr>\n",
       "      <th>0</th>\n",
       "      <td>1</td>\n",
       "      <td>216</td>\n",
       "      <td>109</td>\n",
       "      <td>0.504630</td>\n",
       "    </tr>\n",
       "    <tr>\n",
       "      <th>1</th>\n",
       "      <td>2</td>\n",
       "      <td>331</td>\n",
       "      <td>91</td>\n",
       "      <td>0.274924</td>\n",
       "    </tr>\n",
       "    <tr>\n",
       "      <th>2</th>\n",
       "      <td>3</td>\n",
       "      <td>291</td>\n",
       "      <td>34</td>\n",
       "      <td>0.116838</td>\n",
       "    </tr>\n",
       "    <tr>\n",
       "      <th>3</th>\n",
       "      <td>4</td>\n",
       "      <td>63</td>\n",
       "      <td>1</td>\n",
       "      <td>0.015873</td>\n",
       "    </tr>\n",
       "    <tr>\n",
       "      <th>4</th>\n",
       "      <td>5</td>\n",
       "      <td>740</td>\n",
       "      <td>225</td>\n",
       "      <td>0.304054</td>\n",
       "    </tr>\n",
       "  </tbody>\n",
       "</table>\n",
       "</div>"
      ],
      "text/plain": [
       "   sponsor_id  num_bills  num_successful_bills  success_rate\n",
       "0           1        216                   109      0.504630\n",
       "1           2        331                    91      0.274924\n",
       "2           3        291                    34      0.116838\n",
       "3           4         63                     1      0.015873\n",
       "4           5        740                   225      0.304054"
      ]
     },
     "execution_count": 22,
     "metadata": {},
     "output_type": "execute_result"
    }
   ],
   "source": [
    "sponsor_success_rates.head()"
   ]
  },
  {
   "cell_type": "code",
   "execution_count": null,
   "metadata": {},
   "outputs": [],
   "source": []
  }
 ],
 "metadata": {
  "kernelspec": {
   "display_name": "aclu",
   "language": "python",
   "name": "aclu"
  },
  "language_info": {
   "codemirror_mode": {
    "name": "ipython",
    "version": 3
   },
   "file_extension": ".py",
   "mimetype": "text/x-python",
   "name": "python",
   "nbconvert_exporter": "python",
   "pygments_lexer": "ipython3",
   "version": "3.7.7"
  }
 },
 "nbformat": 4,
 "nbformat_minor": 4
}
