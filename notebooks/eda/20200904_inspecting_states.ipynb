{
 "cells": [
  {
   "cell_type": "markdown",
   "metadata": {},
   "source": [
    "#### This is an imporant notebook. Can be used to generate data reports for states"
   ]
  },
  {
   "cell_type": "code",
   "execution_count": 1,
   "metadata": {},
   "outputs": [],
   "source": [
    "import os\n",
    "import pandas as pd \n",
    "from datetime import datetime\n",
    "import seaborn as sns\n",
    "\n",
    "from pandas.plotting import table"
   ]
  },
  {
   "cell_type": "code",
   "execution_count": 2,
   "metadata": {},
   "outputs": [],
   "source": [
    "import matplotlib.pyplot as plt"
   ]
  },
  {
   "cell_type": "code",
   "execution_count": 3,
   "metadata": {},
   "outputs": [],
   "source": [
    "from src.utils.general import get_db_conn"
   ]
  },
  {
   "cell_type": "code",
   "execution_count": 4,
   "metadata": {},
   "outputs": [],
   "source": [
    "creds_folder = '../conf/local/'\n",
    "fpath = os.path.join(creds_folder, 'credentials.yaml')\n",
    "db_con = get_db_conn(fpath)"
   ]
  },
  {
   "cell_type": "markdown",
   "metadata": {},
   "source": [
    "### State being analysed"
   ]
  },
  {
   "cell_type": "code",
   "execution_count": 49,
   "metadata": {},
   "outputs": [],
   "source": [
    "state = 'VT' "
   ]
  },
  {
   "cell_type": "markdown",
   "metadata": {},
   "source": [
    "### Sessions for the state\n",
    "\n",
    "Only considering regular sessions in this "
   ]
  },
  {
   "cell_type": "code",
   "execution_count": 50,
   "metadata": {},
   "outputs": [],
   "source": [
    "q = \"\"\"\n",
    "    select \n",
    "        distinct session_id, \n",
    "        year_start,\n",
    "        year_end,\n",
    "        session_title\n",
    "    from clean.bills \n",
    "        join clean.sessions using(session_id) \n",
    "    where state='{}' and not special\n",
    "    order by year_start\n",
    "    \"\"\".format(state)"
   ]
  },
  {
   "cell_type": "code",
   "execution_count": 51,
   "metadata": {},
   "outputs": [
    {
     "data": {
      "text/html": [
       "<div>\n",
       "<style scoped>\n",
       "    .dataframe tbody tr th:only-of-type {\n",
       "        vertical-align: middle;\n",
       "    }\n",
       "\n",
       "    .dataframe tbody tr th {\n",
       "        vertical-align: top;\n",
       "    }\n",
       "\n",
       "    .dataframe thead th {\n",
       "        text-align: right;\n",
       "    }\n",
       "</style>\n",
       "<table border=\"1\" class=\"dataframe\">\n",
       "  <thead>\n",
       "    <tr style=\"text-align: right;\">\n",
       "      <th></th>\n",
       "      <th>session_id</th>\n",
       "      <th>year_start</th>\n",
       "      <th>year_end</th>\n",
       "      <th>session_title</th>\n",
       "    </tr>\n",
       "  </thead>\n",
       "  <tbody>\n",
       "    <tr>\n",
       "      <th>0</th>\n",
       "      <td>46</td>\n",
       "      <td>2009</td>\n",
       "      <td>2010</td>\n",
       "      <td>\"Regular Session\"</td>\n",
       "    </tr>\n",
       "    <tr>\n",
       "      <th>1</th>\n",
       "      <td>94</td>\n",
       "      <td>2011</td>\n",
       "      <td>2012</td>\n",
       "      <td>\"Regular Session\"</td>\n",
       "    </tr>\n",
       "    <tr>\n",
       "      <th>2</th>\n",
       "      <td>1021</td>\n",
       "      <td>2013</td>\n",
       "      <td>2014</td>\n",
       "      <td>\"Regular Session\"</td>\n",
       "    </tr>\n",
       "    <tr>\n",
       "      <th>3</th>\n",
       "      <td>1151</td>\n",
       "      <td>2015</td>\n",
       "      <td>2016</td>\n",
       "      <td>\"Regular Session\"</td>\n",
       "    </tr>\n",
       "    <tr>\n",
       "      <th>4</th>\n",
       "      <td>1264</td>\n",
       "      <td>2017</td>\n",
       "      <td>2018</td>\n",
       "      <td>\"Regular Session\"</td>\n",
       "    </tr>\n",
       "    <tr>\n",
       "      <th>5</th>\n",
       "      <td>1652</td>\n",
       "      <td>2019</td>\n",
       "      <td>2020</td>\n",
       "      <td>\"Regular Session\"</td>\n",
       "    </tr>\n",
       "  </tbody>\n",
       "</table>\n",
       "</div>"
      ],
      "text/plain": [
       "   session_id  year_start  year_end      session_title\n",
       "0          46        2009      2010  \"Regular Session\"\n",
       "1          94        2011      2012  \"Regular Session\"\n",
       "2        1021        2013      2014  \"Regular Session\"\n",
       "3        1151        2015      2016  \"Regular Session\"\n",
       "4        1264        2017      2018  \"Regular Session\"\n",
       "5        1652        2019      2020  \"Regular Session\""
      ]
     },
     "execution_count": 51,
     "metadata": {},
     "output_type": "execute_result"
    }
   ],
   "source": [
    "t = pd.read_sql(q, db_con)\n",
    "t"
   ]
  },
  {
   "cell_type": "code",
   "execution_count": 52,
   "metadata": {},
   "outputs": [],
   "source": [
    "# fig, ax = plt.subplots()\n",
    "# ax.xaxis.set_visible(False)  # hide the x axis\n",
    "# ax.yaxis.set_visible(False)  # hide the y axis\n",
    "# # table(ax, t)"
   ]
  },
  {
   "cell_type": "markdown",
   "metadata": {},
   "source": [
    "### What is the Data distribution across time for the state?"
   ]
  },
  {
   "cell_type": "code",
   "execution_count": 53,
   "metadata": {},
   "outputs": [],
   "source": [
    "q = \"\"\"\n",
    "    select \n",
    "        introduced_date,\n",
    "        count(*) as num_bills\n",
    "    from clean.bills \n",
    "        join clean.sessions using(session_id) \n",
    "    where state='{}' and not special\n",
    "    group by introduced_date having introduced_date >= '2009-01-01'\n",
    "    order by introduced_date    \n",
    "\"\"\".format(state)"
   ]
  },
  {
   "cell_type": "code",
   "execution_count": 54,
   "metadata": {},
   "outputs": [],
   "source": [
    "bill_introduction = pd.read_sql(q, db_con)"
   ]
  },
  {
   "cell_type": "code",
   "execution_count": 55,
   "metadata": {},
   "outputs": [
    {
     "data": {
      "text/plain": [
       "datetime.date(2020, 6, 12)"
      ]
     },
     "execution_count": 55,
     "metadata": {},
     "output_type": "execute_result"
    }
   ],
   "source": [
    "bill_introduction['introduced_date'].max()"
   ]
  },
  {
   "cell_type": "markdown",
   "metadata": {},
   "source": [
    "### Adding the missing dates"
   ]
  },
  {
   "cell_type": "code",
   "execution_count": 56,
   "metadata": {},
   "outputs": [],
   "source": [
    "idx = pd.date_range('2011-01-01', '2021-06-01')\n",
    "# year = 2018\n",
    "# dates_range = ('{}-06-01'.format(year), '{}-12-31'.format(year))\n",
    "# idx = pd.date_range(dates_range[0], dates_range[1])\n",
    "\n",
    "temp_bill_introduction = bill_introduction.set_index('introduced_date')\n",
    "temp_bill_introduction.index = pd.DatetimeIndex(temp_bill_introduction.index)\n",
    "temp_bill_introduction = temp_bill_introduction.reindex(idx, fill_value=0)\n",
    "temp_bill_introduction = temp_bill_introduction.reset_index()"
   ]
  },
  {
   "cell_type": "code",
   "execution_count": 57,
   "metadata": {},
   "outputs": [
    {
     "data": {
      "image/png": "[encoded data removed]",
      "text/plain": [
       "<Figure size 864x288 with 1 Axes>"
      ]
     },
     "metadata": {
      "needs_background": "light"
     },
     "output_type": "display_data"
    }
   ],
   "source": [
    "fig, ax = plt.subplots()\n",
    "fig.set_size_inches(12, 4)\n",
    "sns.lineplot(data=temp_bill_introduction, x='index', y='num_bills', ax=ax)\n",
    "ax.set_xlabel('Bill introduction date')\n",
    "ax.set_ylabel('Number of bills intoduced')\n",
    "ax.set_title('Number of bills introduced per day -- {}'.format(state))\n",
    "sns.despine(left=False, bottom=False)\n",
    "# fig.savefig('deep_dive_figs/bills_introduced_by_day_{}.png'.format(state), bbox_inches='tight')"
   ]
  },
  {
   "cell_type": "markdown",
   "metadata": {},
   "source": [
    "# How many bills do we have for the state in question?"
   ]
  },
  {
   "cell_type": "code",
   "execution_count": null,
   "metadata": {},
   "outputs": [],
   "source": [
    "q = \"\"\"\n",
    "    select \n",
    "        count(distinct bill_id) as num_bills\n",
    "    from clean_2.bills join clean_2.sessions using (session_id)\n",
    "    where state='{}'\n",
    "\"\"\".format(state)"
   ]
  },
  {
   "cell_type": "code",
   "execution_count": null,
   "metadata": {},
   "outputs": [],
   "source": [
    "tot_bills = pd.read_sql(q, db_con)['num_bills'].iloc[0]\n",
    "tot_bills"
   ]
  },
  {
   "cell_type": "markdown",
   "metadata": {},
   "source": [
    "### What's the fraction of bills end up getting passed? "
   ]
  },
  {
   "cell_type": "code",
   "execution_count": null,
   "metadata": {},
   "outputs": [],
   "source": [
    "q = \"\"\"\n",
    "    with state_bills as (\n",
    "        select \n",
    "            bill_id,\n",
    "            a.state_id,\n",
    "            state,\n",
    "            introduced_date\n",
    "        from clean_2.bills a join clean_2.sessions b using (session_id)\n",
    "        where state='{}' and not special\n",
    "    ),\n",
    "    pass_details as (\n",
    "        with conclusions as (\n",
    "            select \n",
    "                bill_id,\n",
    "                max(case when (event=4 or event=5 or event=6) then progress_date end) as conclude_date\n",
    "            from clean_2.bill_progress group by bill_id\n",
    "        )\n",
    "        select \n",
    "            bill_id,\n",
    "            max((case when (progress_date=conclude_date and event=4) then progress_date end)) as passed_date,\n",
    "            max((case when (progress_date=conclude_date and event=4) then true end)::int) as passed\n",
    "        from conclusions left join clean_2.bill_progress using (bill_id)\n",
    "        group by bill_id\n",
    "    )\n",
    "    select \n",
    "        bill_id,\n",
    "        state,\n",
    "        passed_date,\n",
    "        passed,\n",
    "        introduced_date,\n",
    "        (passed_date::DATE - introduced_date::DATE)::int as days_to_pass\n",
    "    from state_bills join pass_details using (bill_id)\n",
    "    where passed=1\n",
    "    \"\"\".format(state)"
   ]
  },
  {
   "cell_type": "code",
   "execution_count": null,
   "metadata": {},
   "outputs": [],
   "source": [
    "bills_passed = pd.read_sql(q, db_con)\n",
    "num_bills_passed = bills_passed.shape[0]"
   ]
  },
  {
   "cell_type": "code",
   "execution_count": null,
   "metadata": {},
   "outputs": [],
   "source": [
    "print('fraction of bills passed: {}%'.format(num_bills_passed/tot_bills*100))"
   ]
  },
  {
   "cell_type": "code",
   "execution_count": null,
   "metadata": {},
   "outputs": [],
   "source": [
    "q = \"\"\"\n",
    "    select bill_id, introduced_date, extract('year' from introduced_date) as bill_year from clean_2.bills \n",
    "    where state='{}' \n",
    "\"\"\".format(state)\n",
    "\n",
    "all_bills = pd.read_sql(q, db_con)"
   ]
  },
  {
   "cell_type": "code",
   "execution_count": null,
   "metadata": {},
   "outputs": [],
   "source": [
    "all_bills = all_bills.merge(bills_passed, on=['bill_id', 'introduced_date'], how='left')\n",
    "all_bills['passed'].fillna(0, inplace=True)"
   ]
  },
  {
   "cell_type": "code",
   "execution_count": null,
   "metadata": {},
   "outputs": [],
   "source": [
    "all_bills.group"
   ]
  },
  {
   "cell_type": "code",
   "execution_count": 16,
   "metadata": {},
   "outputs": [
    {
     "ename": "NameError",
     "evalue": "name 'all_bills' is not defined",
     "output_type": "error",
     "traceback": [
      "\u001b[0;31m---------------------------------------------------------------------------\u001b[0m",
      "\u001b[0;31mNameError\u001b[0m                                 Traceback (most recent call last)",
      "\u001b[0;32m<ipython-input-16-95b5d547087e>\u001b[0m in \u001b[0;36m<module>\u001b[0;34m\u001b[0m\n\u001b[0;32m----> 1\u001b[0;31m \u001b[0mall_bills\u001b[0m\u001b[0;34m.\u001b[0m\u001b[0mhead\u001b[0m\u001b[0;34m(\u001b[0m\u001b[0;34m)\u001b[0m\u001b[0;34m\u001b[0m\u001b[0;34m\u001b[0m\u001b[0m\n\u001b[0m",
      "\u001b[0;31mNameError\u001b[0m: name 'all_bills' is not defined"
     ]
    }
   ],
   "source": [
    "all_bills.head()"
   ]
  },
  {
   "cell_type": "code",
   "execution_count": null,
   "metadata": {},
   "outputs": [],
   "source": [
    "sns.barplot(\n",
    "    data=all_bills,\n",
    "    x='bill_year',\n",
    "    y='passed',\n",
    "    hue=''\n",
    ")"
   ]
  },
  {
   "cell_type": "markdown",
   "metadata": {},
   "source": [
    "### How long does it take to pass bills on average?"
   ]
  },
  {
   "cell_type": "code",
   "execution_count": 37,
   "metadata": {},
   "outputs": [
    {
     "name": "stdout",
     "output_type": "stream",
     "text": [
      "median 2 and mean 36 days to pass a bill in VT\n"
     ]
    }
   ],
   "source": [
    "t1 = bills_passed['days_to_pass'].median()\n",
    "t2 = bills_passed['days_to_pass'].mean()\n",
    "print('median {} and mean {} days to pass a bill in {}'.format(round(t1), round(t2), state))"
   ]
  },
  {
   "cell_type": "code",
   "execution_count": 38,
   "metadata": {},
   "outputs": [
    {
     "data": {
      "text/plain": [
       "115.0"
      ]
     },
     "execution_count": 38,
     "metadata": {},
     "output_type": "execute_result"
    }
   ],
   "source": [
    "bills_passed['days_to_pass'].quantile(q=0.90)"
   ]
  },
  {
   "cell_type": "code",
   "execution_count": 39,
   "metadata": {},
   "outputs": [
    {
     "data": {
      "text/plain": [
       "509"
      ]
     },
     "execution_count": 39,
     "metadata": {},
     "output_type": "execute_result"
    }
   ],
   "source": [
    "bills_passed['days_to_pass'].max()"
   ]
  },
  {
   "cell_type": "markdown",
   "metadata": {},
   "source": [
    "### Distribution of days to get a bill passed "
   ]
  },
  {
   "cell_type": "code",
   "execution_count": 40,
   "metadata": {},
   "outputs": [
    {
     "name": "stderr",
     "output_type": "stream",
     "text": [
      "No handles with labels found to put in legend.\n"
     ]
    },
    {
     "data": {
      "text/plain": [
       "<matplotlib.legend.Legend at 0x7f4b979ef310>"
      ]
     },
     "execution_count": 40,
     "metadata": {},
     "output_type": "execute_result"
    },
    {
     "data": {
      "image/png": "[encoded data removed]",
      "text/plain": [
       "<Figure size 864x288 with 1 Axes>"
      ]
     },
     "metadata": {
      "needs_background": "light"
     },
     "output_type": "display_data"
    }
   ],
   "source": [
    "fig, ax = plt.subplots()\n",
    "fig.set_size_inches(12, 4)\n",
    "sns.distplot(bills_passed['days_to_pass'], kde=False, ax=ax, bins=100, color='royalblue')\n",
    "ax.set_xlabel('Days taken to pass the bill')\n",
    "ax.set_ylabel('Number of bills passed')\n",
    "ax.set_title('Distribution of days it takes to pass a bill in {}'.format(state))\n",
    "\n",
    "# specific to PA\n",
    "# plt.axvline(x=7, label='label window---7 days', color='orange')\n",
    "# plt.annotate('out of all bills, ~15% bills get passed within 7 days', xy=(15, 3000))\n",
    "# plt.annotate('out of bills that gets passed, ~53% bills get passed within 7 days', xy=(15, 2500))\n",
    "sns.despine(left=False, bottom=False)\n",
    "plt.legend()\n",
    "# fig.savefig('deep_dive_figs/bill_pass_days_dist_{}.png'.format(state), bbox_inches='tight')"
   ]
  },
  {
   "cell_type": "code",
   "execution_count": 309,
   "metadata": {},
   "outputs": [],
   "source": [
    "# bills_passed['days_to_pass'].describe()"
   ]
  },
  {
   "cell_type": "markdown",
   "metadata": {},
   "source": [
    "#### Fraction of bills that get passed within a certain number of days"
   ]
  },
  {
   "cell_type": "code",
   "execution_count": 41,
   "metadata": {},
   "outputs": [
    {
     "name": "stdout",
     "output_type": "stream",
     "text": [
      "Out of all bills, 29.26% bills get passed within 60 days\n",
      "Out of bills that get passed, 79.14% bills get passed within 60 days\n"
     ]
    }
   ],
   "source": [
    "d = 60\n",
    "msk = bills_passed['days_to_pass'] <= d\n",
    "t = bills_passed[msk].shape[0] / tot_bills\n",
    "print('Out of all bills, {}% bills get passed within {} days'.format(round(t*100, 2), d))\n",
    "\n",
    "t = bills_passed[msk].shape[0]/bills_passed.shape[0]\n",
    "print('Out of bills that get passed, {}% bills get passed within {} days'.format(round(t*100, 2), d))"
   ]
  },
  {
   "cell_type": "code",
   "execution_count": null,
   "metadata": {},
   "outputs": [],
   "source": []
  }
 ],
 "metadata": {
  "kernelspec": {
   "display_name": "aclu",
   "language": "python",
   "name": "aclu"
  },
  "language_info": {
   "codemirror_mode": {
    "name": "ipython",
    "version": 3
   },
   "file_extension": ".py",
   "mimetype": "text/x-python",
   "name": "python",
   "nbconvert_exporter": "python",
   "pygments_lexer": "ipython3",
   "version": "3.7.7"
  }
 },
 "nbformat": 4,
 "nbformat_minor": 4
}
