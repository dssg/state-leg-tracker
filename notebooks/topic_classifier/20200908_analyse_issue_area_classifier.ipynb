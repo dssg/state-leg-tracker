{
 "cells": [
  {
   "cell_type": "code",
   "execution_count": 1,
   "metadata": {},
   "outputs": [],
   "source": [
    "import os\n",
    "import pandas as pd\n",
    "from datetime import datetime\n",
    "import seaborn as sns\n",
    "import joblib\n",
    "import matplotlib.pyplot as plt\n",
    "\n",
    "from src.utils.general import get_db_conn"
   ]
  },
  {
   "cell_type": "code",
   "execution_count": 2,
   "metadata": {},
   "outputs": [],
   "source": [
    "creds_folder = '../conf/local/'\n",
    "fpath = os.path.join(creds_folder, 'credentials.yaml')\n",
    "db_con = get_db_conn(fpath)"
   ]
  },
  {
   "cell_type": "code",
   "execution_count": 3,
   "metadata": {},
   "outputs": [],
   "source": [
    "project_folder = '/mnt/data/experiment_data/aclu/issue_classify_tests/first_complete_test'"
   ]
  },
  {
   "cell_type": "markdown",
   "metadata": {},
   "source": [
    "#### Experiment hashes"
   ]
  },
  {
   "cell_type": "code",
   "execution_count": 4,
   "metadata": {},
   "outputs": [],
   "source": [
    "q = \"\"\"\n",
    "        select * from issue_classifier_metadata.experiment_runs where run_status='completed'\n",
    "    \"\"\"\n",
    "df = pd.read_sql(q, db_con)"
   ]
  },
  {
   "cell_type": "code",
   "execution_count": 5,
   "metadata": {},
   "outputs": [],
   "source": [
    "exp_hashes = df['experiment_hash'].tolist()"
   ]
  },
  {
   "cell_type": "markdown",
   "metadata": {},
   "source": [
    "#### Models in the experiment"
   ]
  },
  {
   "cell_type": "code",
   "execution_count": 132,
   "metadata": {},
   "outputs": [
    {
     "data": {
      "text/plain": [
       "'1736a4534070b0a6550e30845130d39c'"
      ]
     },
     "execution_count": 132,
     "metadata": {},
     "output_type": "execute_result"
    }
   ],
   "source": [
    "# exp_hsh = exp_hashes[1]\n",
    "exp_hsh = '1736a4534070b0a6550e30845130d39c'\n",
    "q = \"\"\"\n",
    "        select \n",
    "            model_id,\n",
    "            model_group_id,\n",
    "            model_hash,\n",
    "            train_matrix_uuid,\n",
    "            issue_area,\n",
    "            model_type,\n",
    "            hyperparameters \n",
    "        from issue_classifier_metadata.models join issue_classifier_metadata.model_groups using(model_group_id) \n",
    "        where built_by_experiment='{}' and model_type like '%Random%'\n",
    "    \"\"\".format(exp_hsh)\n",
    "exp_hsh"
   ]
  },
  {
   "cell_type": "code",
   "execution_count": 133,
   "metadata": {},
   "outputs": [],
   "source": [
    "models_in_exp = pd.read_sql(q, db_con)"
   ]
  },
  {
   "cell_type": "code",
   "execution_count": 134,
   "metadata": {},
   "outputs": [
    {
     "data": {
      "text/plain": [
       "array([585, 588, 591, 595, 599, 602, 605, 608, 611, 614, 617, 620, 623,\n",
       "       626, 628, 630, 634, 636, 639, 643, 648, 651, 654, 658, 664, 666,\n",
       "       668, 671, 674, 677, 679, 680, 683, 685])"
      ]
     },
     "execution_count": 134,
     "metadata": {},
     "output_type": "execute_result"
    }
   ],
   "source": [
    "mod_groups = models_in_exp['model_group_id'].unique()\n",
    "mod_groups"
   ]
  },
  {
   "cell_type": "code",
   "execution_count": 135,
   "metadata": {},
   "outputs": [
    {
     "data": {
      "text/plain": [
       "{'n_jobs': -1,\n",
       " 'criterion': 'entropy',\n",
       " 'max_depth': 100,\n",
       " 'class_weight': None,\n",
       " 'max_features': 'sqrt',\n",
       " 'n_estimators': 100,\n",
       " 'min_samples_split': 25}"
      ]
     },
     "execution_count": 135,
     "metadata": {},
     "output_type": "execute_result"
    }
   ],
   "source": [
    "mod_group_to_analyse = 685\n",
    "models_in_exp.groupby('model_group_id').first()['hyperparameters'].loc[mod_group_to_analyse]"
   ]
  },
  {
   "cell_type": "code",
   "execution_count": 136,
   "metadata": {},
   "outputs": [
    {
     "data": {
      "text/plain": [
       "'immigrant_rights'"
      ]
     },
     "execution_count": 136,
     "metadata": {},
     "output_type": "execute_result"
    }
   ],
   "source": [
    "issue_area = models_in_exp['issue_area'].unique()\n",
    "issue_area = issue_area[0]\n",
    "issue_area"
   ]
  },
  {
   "cell_type": "markdown",
   "metadata": {},
   "source": [
    "#### Insepcting only a model group"
   ]
  },
  {
   "cell_type": "code",
   "execution_count": 137,
   "metadata": {},
   "outputs": [],
   "source": [
    "msk = models_in_exp['model_group_id'] == mod_group_to_analyse\n",
    "models = models_in_exp[msk]['model_id'].tolist()"
   ]
  },
  {
   "cell_type": "markdown",
   "metadata": {},
   "source": [
    "#### Joining the matrices and the models\n",
    "\n",
    "Only fetching the test matrices for now"
   ]
  },
  {
   "cell_type": "code",
   "execution_count": 138,
   "metadata": {},
   "outputs": [],
   "source": [
    "q = \"\"\"\n",
    "        with test_mats as(\n",
    "            select \n",
    "                model_id, \n",
    "                max(matrix_uuid) as matrix_uuid \n",
    "            from issue_classifier_results.test_predictions where experiment_hash='{0}' and model_id in {1}\n",
    "            group by model_id\n",
    "        )\n",
    "        select \n",
    "            model_id,\n",
    "            matrix_id,\n",
    "            matrix_uuid as test_uuid,\n",
    "            matrix_type,\n",
    "            feature_start_time,\n",
    "            time_split_index,\n",
    "            built_by_experiment\n",
    "        from test_mats join issue_classifier_metadata.matrices using(matrix_uuid)\n",
    "    \"\"\".format(exp_hsh, tuple(models))"
   ]
  },
  {
   "cell_type": "code",
   "execution_count": 142,
   "metadata": {},
   "outputs": [
    {
     "data": {
      "text/html": [
       "<div>\n",
       "<style scoped>\n",
       "    .dataframe tbody tr th:only-of-type {\n",
       "        vertical-align: middle;\n",
       "    }\n",
       "\n",
       "    .dataframe tbody tr th {\n",
       "        vertical-align: top;\n",
       "    }\n",
       "\n",
       "    .dataframe thead th {\n",
       "        text-align: right;\n",
       "    }\n",
       "</style>\n",
       "<table border=\"1\" class=\"dataframe\">\n",
       "  <thead>\n",
       "    <tr style=\"text-align: right;\">\n",
       "      <th></th>\n",
       "      <th>model_id</th>\n",
       "      <th>matrix_id</th>\n",
       "      <th>test_uuid</th>\n",
       "      <th>matrix_type</th>\n",
       "      <th>feature_start_time</th>\n",
       "      <th>time_split_index</th>\n",
       "      <th>built_by_experiment</th>\n",
       "    </tr>\n",
       "  </thead>\n",
       "  <tbody>\n",
       "    <tr>\n",
       "      <th>0</th>\n",
       "      <td>5228</td>\n",
       "      <td>2009-07-01 00:00:00_2009-12-30 00:00:00</td>\n",
       "      <td>46a397fec4964457aaec8d231f6f42cf</td>\n",
       "      <td>test</td>\n",
       "      <td>2009-07-01</td>\n",
       "      <td>0</td>\n",
       "      <td>1736a4534070b0a6550e30845130d39c</td>\n",
       "    </tr>\n",
       "    <tr>\n",
       "      <th>1</th>\n",
       "      <td>5230</td>\n",
       "      <td>2010-07-01 00:00:00_2010-12-30 00:00:00</td>\n",
       "      <td>e23bd001f6f246358e8b4e0433591d06</td>\n",
       "      <td>test</td>\n",
       "      <td>2010-07-01</td>\n",
       "      <td>1</td>\n",
       "      <td>1736a4534070b0a6550e30845130d39c</td>\n",
       "    </tr>\n",
       "    <tr>\n",
       "      <th>2</th>\n",
       "      <td>5231</td>\n",
       "      <td>2011-07-01 00:00:00_2011-12-30 00:00:00</td>\n",
       "      <td>a23a8810afac4d5388f739074ce24b98</td>\n",
       "      <td>test</td>\n",
       "      <td>2011-07-01</td>\n",
       "      <td>2</td>\n",
       "      <td>1736a4534070b0a6550e30845130d39c</td>\n",
       "    </tr>\n",
       "    <tr>\n",
       "      <th>3</th>\n",
       "      <td>5232</td>\n",
       "      <td>2012-07-01 00:00:00_2012-12-30 00:00:00</td>\n",
       "      <td>287b9ac566554816af49d11447b4bf24</td>\n",
       "      <td>test</td>\n",
       "      <td>2012-07-01</td>\n",
       "      <td>3</td>\n",
       "      <td>1736a4534070b0a6550e30845130d39c</td>\n",
       "    </tr>\n",
       "    <tr>\n",
       "      <th>4</th>\n",
       "      <td>5234</td>\n",
       "      <td>2013-07-01 00:00:00_2013-12-30 00:00:00</td>\n",
       "      <td>218a0163cb124c5d88754d51e98f6a92</td>\n",
       "      <td>test</td>\n",
       "      <td>2013-07-01</td>\n",
       "      <td>4</td>\n",
       "      <td>1736a4534070b0a6550e30845130d39c</td>\n",
       "    </tr>\n",
       "    <tr>\n",
       "      <th>5</th>\n",
       "      <td>5236</td>\n",
       "      <td>2014-07-01 00:00:00_2014-12-30 00:00:00</td>\n",
       "      <td>84ea896cd64f4d00bb0bee10e98a6f60</td>\n",
       "      <td>test</td>\n",
       "      <td>2014-07-01</td>\n",
       "      <td>5</td>\n",
       "      <td>1736a4534070b0a6550e30845130d39c</td>\n",
       "    </tr>\n",
       "  </tbody>\n",
       "</table>\n",
       "</div>"
      ],
      "text/plain": [
       "   model_id                                matrix_id  \\\n",
       "0      5228  2009-07-01 00:00:00_2009-12-30 00:00:00   \n",
       "1      5230  2010-07-01 00:00:00_2010-12-30 00:00:00   \n",
       "2      5231  2011-07-01 00:00:00_2011-12-30 00:00:00   \n",
       "3      5232  2012-07-01 00:00:00_2012-12-30 00:00:00   \n",
       "4      5234  2013-07-01 00:00:00_2013-12-30 00:00:00   \n",
       "5      5236  2014-07-01 00:00:00_2014-12-30 00:00:00   \n",
       "\n",
       "                          test_uuid matrix_type feature_start_time  \\\n",
       "0  46a397fec4964457aaec8d231f6f42cf        test         2009-07-01   \n",
       "1  e23bd001f6f246358e8b4e0433591d06        test         2010-07-01   \n",
       "2  a23a8810afac4d5388f739074ce24b98        test         2011-07-01   \n",
       "3  287b9ac566554816af49d11447b4bf24        test         2012-07-01   \n",
       "4  218a0163cb124c5d88754d51e98f6a92        test         2013-07-01   \n",
       "5  84ea896cd64f4d00bb0bee10e98a6f60        test         2014-07-01   \n",
       "\n",
       "   time_split_index               built_by_experiment  \n",
       "0                 0  1736a4534070b0a6550e30845130d39c  \n",
       "1                 1  1736a4534070b0a6550e30845130d39c  \n",
       "2                 2  1736a4534070b0a6550e30845130d39c  \n",
       "3                 3  1736a4534070b0a6550e30845130d39c  \n",
       "4                 4  1736a4534070b0a6550e30845130d39c  \n",
       "5                 5  1736a4534070b0a6550e30845130d39c  "
      ]
     },
     "execution_count": 142,
     "metadata": {},
     "output_type": "execute_result"
    }
   ],
   "source": [
    "matrices_models = pd.read_sql(q, db_con)\n",
    "matrices_models"
   ]
  },
  {
   "cell_type": "markdown",
   "metadata": {},
   "source": [
    "#### Fetch predictions for a model/matrix\n",
    "\n",
    "Selecting a time split index"
   ]
  },
  {
   "cell_type": "code",
   "execution_count": 165,
   "metadata": {},
   "outputs": [],
   "source": [
    "time_idx = 4"
   ]
  },
  {
   "cell_type": "code",
   "execution_count": 166,
   "metadata": {},
   "outputs": [],
   "source": [
    "msk = matrices_models['time_split_index'] == time_idx\n",
    "model_id = matrices_models[msk]['model_id'].iloc[0]\n",
    "matrix_uuid = matrices_models[msk]['test_uuid'].iloc[0]"
   ]
  },
  {
   "cell_type": "code",
   "execution_count": 167,
   "metadata": {},
   "outputs": [],
   "source": [
    "q = \"\"\"\n",
    "        select \n",
    "            entity_id,\n",
    "            as_of_date,\n",
    "            model_id,\n",
    "            issue_area,\n",
    "            score,\n",
    "            label_value\n",
    "        from issue_classifier_results.test_predictions \n",
    "        where model_id={} and matrix_uuid='{}'\n",
    "\"\"\".format(model_id, matrix_uuid)"
   ]
  },
  {
   "cell_type": "code",
   "execution_count": 168,
   "metadata": {},
   "outputs": [],
   "source": [
    "model_test_results = pd.read_sql(q, db_con)"
   ]
  },
  {
   "cell_type": "markdown",
   "metadata": {},
   "source": [
    "#### Score distribution"
   ]
  },
  {
   "cell_type": "code",
   "execution_count": 169,
   "metadata": {},
   "outputs": [
    {
     "name": "stdout",
     "output_type": "stream",
     "text": [
      "Total: 17809, in issue area: 38, prevalance 0.002133752597001516\n"
     ]
    },
    {
     "data": {
      "image/png": "[encoded data removed]",
      "text/plain": [
       "<Figure size 432x288 with 1 Axes>"
      ]
     },
     "metadata": {
      "needs_background": "light"
     },
     "output_type": "display_data"
    }
   ],
   "source": [
    "msk = model_test_results['label_value'] == 1\n",
    "model_test_results[msk]['score'].hist(bins=100, alpha=0.3, label='one')\n",
    "model_test_results[~msk]['score'].hist(bins=100,  alpha=0.3, label='zero')\n",
    "plt.legend()\n",
    "\n",
    "num_immigrant_rights_bills = model_test_results[msk].shape[0]\n",
    "num_total_bills = model_test_results.shape[0]\n",
    "prevalance = num_immigrant_rights_bills/num_total_bills\n",
    "print('Total: {}, in issue area: {}, prevalance {}'.format(num_total_bills, num_immigrant_rights_bills, prevalance))"
   ]
  },
  {
   "cell_type": "markdown",
   "metadata": {},
   "source": [
    "### Roc curve"
   ]
  },
  {
   "cell_type": "code",
   "execution_count": 148,
   "metadata": {},
   "outputs": [],
   "source": [
    "from sklearn.metrics import roc_curve"
   ]
  },
  {
   "cell_type": "code",
   "execution_count": 149,
   "metadata": {},
   "outputs": [],
   "source": [
    "fpr, tpr, thresholds = roc_curve(model_test_results['label_value'], model_test_results['score'])"
   ]
  },
  {
   "cell_type": "code",
   "execution_count": 150,
   "metadata": {},
   "outputs": [
    {
     "data": {
      "text/plain": [
       "Text(0, 0.5, 'TPR')"
      ]
     },
     "execution_count": 150,
     "metadata": {},
     "output_type": "execute_result"
    },
    {
     "data": {
      "image/png": "[encoded data removed]",
      "text/plain": [
       "<Figure size 432x288 with 1 Axes>"
      ]
     },
     "metadata": {
      "needs_background": "light"
     },
     "output_type": "display_data"
    }
   ],
   "source": [
    "plt.plot(fpr, tpr, marker='.')\n",
    "plt.xlabel('FPR')\n",
    "plt.ylabel('TPR')"
   ]
  },
  {
   "cell_type": "code",
   "execution_count": 151,
   "metadata": {},
   "outputs": [],
   "source": [
    "confusion_df = pd.DataFrame(zip(fpr, tpr, thresholds), columns=['fpr', 'tpr', 'thresholds'])"
   ]
  },
  {
   "cell_type": "code",
   "execution_count": 152,
   "metadata": {},
   "outputs": [],
   "source": [
    "msk = confusion_df['fpr']>=0.8"
   ]
  },
  {
   "cell_type": "code",
   "execution_count": 153,
   "metadata": {},
   "outputs": [
    {
     "data": {
      "text/html": [
       "<div>\n",
       "<style scoped>\n",
       "    .dataframe tbody tr th:only-of-type {\n",
       "        vertical-align: middle;\n",
       "    }\n",
       "\n",
       "    .dataframe tbody tr th {\n",
       "        vertical-align: top;\n",
       "    }\n",
       "\n",
       "    .dataframe thead th {\n",
       "        text-align: right;\n",
       "    }\n",
       "</style>\n",
       "<table border=\"1\" class=\"dataframe\">\n",
       "  <thead>\n",
       "    <tr style=\"text-align: right;\">\n",
       "      <th></th>\n",
       "      <th>fpr</th>\n",
       "      <th>tpr</th>\n",
       "      <th>thresholds</th>\n",
       "    </tr>\n",
       "  </thead>\n",
       "  <tbody>\n",
       "    <tr>\n",
       "      <th>839</th>\n",
       "      <td>1.0</td>\n",
       "      <td>1.0</td>\n",
       "      <td>0.0</td>\n",
       "    </tr>\n",
       "  </tbody>\n",
       "</table>\n",
       "</div>"
      ],
      "text/plain": [
       "     fpr  tpr  thresholds\n",
       "839  1.0  1.0         0.0"
      ]
     },
     "execution_count": 153,
     "metadata": {},
     "output_type": "execute_result"
    }
   ],
   "source": [
    "confusion_df[msk]"
   ]
  },
  {
   "cell_type": "markdown",
   "metadata": {},
   "source": [
    "#### PR-curve Sklearn"
   ]
  },
  {
   "cell_type": "code",
   "execution_count": 154,
   "metadata": {},
   "outputs": [],
   "source": [
    "from sklearn.metrics import precision_recall_curve"
   ]
  },
  {
   "cell_type": "code",
   "execution_count": 155,
   "metadata": {},
   "outputs": [],
   "source": [
    "precision, recall, thresholds_2 = precision_recall_curve(model_test_results['label_value'], model_test_results['score'], pos_label=1)\n",
    "\n",
    "thresholds_2 = np.append(thresholds_2, 1)\n",
    "\n",
    "def get_metrics_report(fpr, tpr, thresholds, precision, recall, thresholds_2):\n",
    "    df_1 = pd.DataFrame({'threshold': thresholds_2,'precision': precision,\n",
    "                    'recall': recall})\n",
    "    df_1['f1_score'] = 2 * (df_1.precision * df_1.recall) / (df_1.precision + df_1.recall)\n",
    "    df_2 = pd.DataFrame({'tpr': tpr, 'fpr': fpr, 'threshold': thresholds})\n",
    "    df_2['tnr'] = 1 - df_2['fpr']\n",
    "    df_2['fnr'] = 1 - df_2['tpr']\n",
    "    df = df_1.merge(df_2, on=\"threshold\")\n",
    "    return df"
   ]
  },
  {
   "cell_type": "code",
   "execution_count": 156,
   "metadata": {},
   "outputs": [],
   "source": [
    "metrics_report = get_metrics_report(fpr, tpr, thresholds, precision, recall, thresholds_2)\n",
    "msk = metrics_report['recall'] >=0.8"
   ]
  },
  {
   "cell_type": "code",
   "execution_count": 157,
   "metadata": {},
   "outputs": [
    {
     "data": {
      "text/html": [
       "<div>\n",
       "<style scoped>\n",
       "    .dataframe tbody tr th:only-of-type {\n",
       "        vertical-align: middle;\n",
       "    }\n",
       "\n",
       "    .dataframe tbody tr th {\n",
       "        vertical-align: top;\n",
       "    }\n",
       "\n",
       "    .dataframe thead th {\n",
       "        text-align: right;\n",
       "    }\n",
       "</style>\n",
       "<table border=\"1\" class=\"dataframe\">\n",
       "  <thead>\n",
       "    <tr style=\"text-align: right;\">\n",
       "      <th></th>\n",
       "      <th>threshold</th>\n",
       "      <th>precision</th>\n",
       "      <th>recall</th>\n",
       "      <th>f1_score</th>\n",
       "      <th>tpr</th>\n",
       "      <th>fpr</th>\n",
       "      <th>tnr</th>\n",
       "      <th>fnr</th>\n",
       "    </tr>\n",
       "  </thead>\n",
       "  <tbody>\n",
       "    <tr>\n",
       "      <th>798</th>\n",
       "      <td>0.03491</td>\n",
       "      <td>0.454545</td>\n",
       "      <td>0.818182</td>\n",
       "      <td>0.584416</td>\n",
       "      <td>0.818182</td>\n",
       "      <td>0.003253</td>\n",
       "      <td>0.996747</td>\n",
       "      <td>0.181818</td>\n",
       "    </tr>\n",
       "    <tr>\n",
       "      <th>793</th>\n",
       "      <td>0.03172</td>\n",
       "      <td>0.391304</td>\n",
       "      <td>0.818182</td>\n",
       "      <td>0.529412</td>\n",
       "      <td>0.818182</td>\n",
       "      <td>0.004217</td>\n",
       "      <td>0.995783</td>\n",
       "      <td>0.181818</td>\n",
       "    </tr>\n",
       "    <tr>\n",
       "      <th>794</th>\n",
       "      <td>0.03226</td>\n",
       "      <td>0.398230</td>\n",
       "      <td>0.818182</td>\n",
       "      <td>0.535714</td>\n",
       "      <td>0.818182</td>\n",
       "      <td>0.004096</td>\n",
       "      <td>0.995904</td>\n",
       "      <td>0.181818</td>\n",
       "    </tr>\n",
       "    <tr>\n",
       "      <th>797</th>\n",
       "      <td>0.03476</td>\n",
       "      <td>0.445545</td>\n",
       "      <td>0.818182</td>\n",
       "      <td>0.576923</td>\n",
       "      <td>0.818182</td>\n",
       "      <td>0.003373</td>\n",
       "      <td>0.996627</td>\n",
       "      <td>0.181818</td>\n",
       "    </tr>\n",
       "    <tr>\n",
       "      <th>796</th>\n",
       "      <td>0.03460</td>\n",
       "      <td>0.436893</td>\n",
       "      <td>0.818182</td>\n",
       "      <td>0.569620</td>\n",
       "      <td>0.818182</td>\n",
       "      <td>0.003494</td>\n",
       "      <td>0.996506</td>\n",
       "      <td>0.181818</td>\n",
       "    </tr>\n",
       "    <tr>\n",
       "      <th>...</th>\n",
       "      <td>...</td>\n",
       "      <td>...</td>\n",
       "      <td>...</td>\n",
       "      <td>...</td>\n",
       "      <td>...</td>\n",
       "      <td>...</td>\n",
       "      <td>...</td>\n",
       "      <td>...</td>\n",
       "    </tr>\n",
       "    <tr>\n",
       "      <th>50</th>\n",
       "      <td>0.00079</td>\n",
       "      <td>0.011752</td>\n",
       "      <td>0.963636</td>\n",
       "      <td>0.023220</td>\n",
       "      <td>0.963636</td>\n",
       "      <td>0.268478</td>\n",
       "      <td>0.731522</td>\n",
       "      <td>0.036364</td>\n",
       "    </tr>\n",
       "    <tr>\n",
       "      <th>51</th>\n",
       "      <td>0.00080</td>\n",
       "      <td>0.011770</td>\n",
       "      <td>0.963636</td>\n",
       "      <td>0.023256</td>\n",
       "      <td>0.963636</td>\n",
       "      <td>0.268056</td>\n",
       "      <td>0.731944</td>\n",
       "      <td>0.036364</td>\n",
       "    </tr>\n",
       "    <tr>\n",
       "      <th>52</th>\n",
       "      <td>0.00081</td>\n",
       "      <td>0.011817</td>\n",
       "      <td>0.963636</td>\n",
       "      <td>0.023348</td>\n",
       "      <td>0.963636</td>\n",
       "      <td>0.266972</td>\n",
       "      <td>0.733028</td>\n",
       "      <td>0.036364</td>\n",
       "    </tr>\n",
       "    <tr>\n",
       "      <th>36</th>\n",
       "      <td>0.00063</td>\n",
       "      <td>0.011120</td>\n",
       "      <td>0.963636</td>\n",
       "      <td>0.021987</td>\n",
       "      <td>0.963636</td>\n",
       "      <td>0.283899</td>\n",
       "      <td>0.716101</td>\n",
       "      <td>0.036364</td>\n",
       "    </tr>\n",
       "    <tr>\n",
       "      <th>0</th>\n",
       "      <td>0.00000</td>\n",
       "      <td>0.003302</td>\n",
       "      <td>1.000000</td>\n",
       "      <td>0.006582</td>\n",
       "      <td>1.000000</td>\n",
       "      <td>1.000000</td>\n",
       "      <td>0.000000</td>\n",
       "      <td>0.000000</td>\n",
       "    </tr>\n",
       "  </tbody>\n",
       "</table>\n",
       "<p>799 rows × 8 columns</p>\n",
       "</div>"
      ],
      "text/plain": [
       "     threshold  precision    recall  f1_score       tpr       fpr       tnr  \\\n",
       "798    0.03491   0.454545  0.818182  0.584416  0.818182  0.003253  0.996747   \n",
       "793    0.03172   0.391304  0.818182  0.529412  0.818182  0.004217  0.995783   \n",
       "794    0.03226   0.398230  0.818182  0.535714  0.818182  0.004096  0.995904   \n",
       "797    0.03476   0.445545  0.818182  0.576923  0.818182  0.003373  0.996627   \n",
       "796    0.03460   0.436893  0.818182  0.569620  0.818182  0.003494  0.996506   \n",
       "..         ...        ...       ...       ...       ...       ...       ...   \n",
       "50     0.00079   0.011752  0.963636  0.023220  0.963636  0.268478  0.731522   \n",
       "51     0.00080   0.011770  0.963636  0.023256  0.963636  0.268056  0.731944   \n",
       "52     0.00081   0.011817  0.963636  0.023348  0.963636  0.266972  0.733028   \n",
       "36     0.00063   0.011120  0.963636  0.021987  0.963636  0.283899  0.716101   \n",
       "0      0.00000   0.003302  1.000000  0.006582  1.000000  1.000000  0.000000   \n",
       "\n",
       "          fnr  \n",
       "798  0.181818  \n",
       "793  0.181818  \n",
       "794  0.181818  \n",
       "797  0.181818  \n",
       "796  0.181818  \n",
       "..        ...  \n",
       "50   0.036364  \n",
       "51   0.036364  \n",
       "52   0.036364  \n",
       "36   0.036364  \n",
       "0    0.000000  \n",
       "\n",
       "[799 rows x 8 columns]"
      ]
     },
     "execution_count": 157,
     "metadata": {},
     "output_type": "execute_result"
    }
   ],
   "source": [
    "metrics_report[msk].sort_values('recall')"
   ]
  },
  {
   "cell_type": "code",
   "execution_count": 158,
   "metadata": {},
   "outputs": [],
   "source": [
    "# fig, ax = plt.subplots()\n",
    "# fig.set_size_inches(12, 6)\n",
    "# sns.lineplot(data=metrics_report, x='threshold', y='precision', ax=ax, color='royalblue', alpha=1 , label='precision')\n",
    "# sns.lineplot(data=metrics_report, x='threshold', y='recall', ax=ax, color='orange', alpha=1, label='recall')\n",
    "# plt.title('Precision & Recall change when we go down the scores')\n",
    "# ax.set_ylabel('Value')\n",
    "# ax.set_xlabel('The score threshold')\n",
    "# plt.axhline(y=0.8)"
   ]
  },
  {
   "cell_type": "markdown",
   "metadata": {},
   "source": [
    "##### Evaluations"
   ]
  },
  {
   "cell_type": "code",
   "execution_count": 159,
   "metadata": {},
   "outputs": [],
   "source": [
    "import numpy as np\n",
    "from src.utils.modeling import get_top_k, get_precision_at_k, get_recall_at_k"
   ]
  },
  {
   "cell_type": "code",
   "execution_count": 160,
   "metadata": {},
   "outputs": [],
   "source": [
    "temp_df = pd.DataFrame()\n",
    "for k in np.arange(0.01, 1.01, 0.01):\n",
    "    d = dict()\n",
    "    top_k = get_top_k(model_test_results, k=k)\n",
    "    d['k'] = np.round(k,2)\n",
    "    d['precision'] = get_precision_at_k(top_k)\n",
    "    d['recall'] = get_recall_at_k(top_k, model_test_results)\n",
    "    temp_df = temp_df.append(d, ignore_index=True)\n",
    "    "
   ]
  },
  {
   "cell_type": "code",
   "execution_count": 161,
   "metadata": {},
   "outputs": [],
   "source": [
    "msk = temp_df['recall']>=0.8"
   ]
  },
  {
   "cell_type": "code",
   "execution_count": 163,
   "metadata": {},
   "outputs": [],
   "source": [
    "# temp_df[msk]"
   ]
  },
  {
   "cell_type": "markdown",
   "metadata": {},
   "source": [
    "#### Note\n",
    "\n",
    "The precision for fixed recall at 80% is 0.383342 (From the PR-curve data from sklearn)"
   ]
  },
  {
   "cell_type": "code",
   "execution_count": 164,
   "metadata": {},
   "outputs": [
    {
     "data": {
      "text/plain": [
       "<matplotlib.legend.Legend at 0x7f874496c9d0>"
      ]
     },
     "execution_count": 164,
     "metadata": {},
     "output_type": "execute_result"
    },
    {
     "data": {
      "image/png": "[encoded data removed]",
      "text/plain": [
       "<Figure size 1080x576 with 1 Axes>"
      ]
     },
     "metadata": {
      "needs_background": "light"
     },
     "output_type": "display_data"
    }
   ],
   "source": [
    "fig, ax = plt.subplots()\n",
    "fig.set_size_inches(15, 8)\n",
    "sns.lineplot(data=temp_df, x='k', y='precision', ax=ax, color='royalblue', alpha=1, label='precision')\n",
    "sns.lineplot(data=temp_df, x='k', y='recall', ax=ax, color='orange', alpha=1, label='recall')\n",
    "plt.title('Precision & Recall change when we go down the ranked list: Immigrant Rights')\n",
    "ax.set_ylabel('Value')\n",
    "ax.set_xlabel('List size (%)')\n",
    "plt.axhline(y=0.8071, linestyle='dotted', alpha=0.4, color='k')\n",
    "plt.axhline(y=0.3757, linestyle='dotted', alpha=0.4,  color='k')\n",
    "plt.axvline(x=0.34, linestyle='dotted', alpha=0.4,  color='k')\n",
    "plt.legend()\n",
    "# plt.arrow(0.34, 0.3757, 0.1, 0.1)\n",
    "# plt.arrow(0.34, 0.807121, 0.1, 0.1)"
   ]
  },
  {
   "cell_type": "code",
   "execution_count": 30,
   "metadata": {},
   "outputs": [],
   "source": [
    "# sns.scatterplot(data=model_test_results, x='score', y='label_value')"
   ]
  },
  {
   "cell_type": "markdown",
   "metadata": {},
   "source": [
    "### Load model"
   ]
  },
  {
   "cell_type": "code",
   "execution_count": 25,
   "metadata": {},
   "outputs": [
    {
     "data": {
      "text/plain": [
       "'70cbc46e1b2236d9ac55a4efd6e9a2be'"
      ]
     },
     "execution_count": 25,
     "metadata": {},
     "output_type": "execute_result"
    }
   ],
   "source": [
    "msk = models_in_exp['model_id'] == model_id\n",
    "mod_hash = models_in_exp[msk]['model_hash'].iloc[0]\n",
    "mod_hash"
   ]
  },
  {
   "cell_type": "code",
   "execution_count": 26,
   "metadata": {},
   "outputs": [],
   "source": [
    "mod_obj = joblib.load(os.path.join(project_folder, 'models',mod_hash))"
   ]
  },
  {
   "cell_type": "code",
   "execution_count": 27,
   "metadata": {},
   "outputs": [],
   "source": [
    "feature_importance = mod_obj.feature_importances_"
   ]
  },
  {
   "cell_type": "markdown",
   "metadata": {},
   "source": [
    "### Load matrix"
   ]
  },
  {
   "cell_type": "code",
   "execution_count": 28,
   "metadata": {},
   "outputs": [],
   "source": [
    "test_mat_data = pd.read_csv(os.path.join(project_folder, 'matrices', matrix_uuid+'.csv'))"
   ]
  },
  {
   "cell_type": "code",
   "execution_count": 29,
   "metadata": {},
   "outputs": [],
   "source": [
    "test_mat_data = test_mat_data.set_index(['entity_id', 'as_of_date'])"
   ]
  },
  {
   "cell_type": "code",
   "execution_count": 30,
   "metadata": {},
   "outputs": [],
   "source": [
    "label_columns = [x for x in test_mat_data.columns if '_label' in x]"
   ]
  },
  {
   "cell_type": "code",
   "execution_count": 31,
   "metadata": {},
   "outputs": [],
   "source": [
    "vocabulary = [x for x in test_mat_data.columns if '_label' not in x]"
   ]
  },
  {
   "cell_type": "markdown",
   "metadata": {},
   "source": [
    "#### Feature importances"
   ]
  },
  {
   "cell_type": "code",
   "execution_count": 32,
   "metadata": {},
   "outputs": [],
   "source": [
    "importances = pd.DataFrame()\n",
    "for i, word in enumerate(vocabulary):\n",
    "    d = dict()\n",
    "    d['word'] = word\n",
    "    d['importance'] = feature_importance[i]\n",
    "    \n",
    "    importances =importances.append(d, ignore_index=True)"
   ]
  },
  {
   "cell_type": "code",
   "execution_count": 33,
   "metadata": {},
   "outputs": [],
   "source": [
    "top_words = importances.sort_values('importance', ascending=False)[:20]"
   ]
  },
  {
   "cell_type": "code",
   "execution_count": 35,
   "metadata": {},
   "outputs": [
    {
     "data": {
      "image/png": "[encoded data removed]",
      "text/plain": [
       "<Figure size 1080x432 with 1 Axes>"
      ]
     },
     "metadata": {
      "needs_background": "light"
     },
     "output_type": "display_data"
    }
   ],
   "source": [
    "f, ax = plt.subplots(figsize=(15, 6))\n",
    "sns.barplot(x=\"importance\", y=\"word\", data=top_words, ax=ax, color='royalblue')\n",
    "sns.despine(left=True, bottom=False)"
   ]
  },
  {
   "cell_type": "markdown",
   "metadata": {},
   "source": [
    "### TODO:\n",
    "\n",
    "1. Precision graph\n",
    "2. Important keywords\n",
    "3. Analyse a different issue area"
   ]
  },
  {
   "cell_type": "markdown",
   "metadata": {},
   "source": [
    "### Plots\n",
    "\n",
    "1. For each issue area Time vs precision for each model group"
   ]
  },
  {
   "cell_type": "code",
   "execution_count": null,
   "metadata": {},
   "outputs": [],
   "source": []
  },
  {
   "cell_type": "code",
   "execution_count": null,
   "metadata": {},
   "outputs": [],
   "source": []
  },
  {
   "cell_type": "code",
   "execution_count": null,
   "metadata": {},
   "outputs": [],
   "source": []
  }
 ],
 "metadata": {
  "kernelspec": {
   "display_name": "aclu",
   "language": "python",
   "name": "aclu"
  },
  "language_info": {
   "codemirror_mode": {
    "name": "ipython",
    "version": 3
   },
   "file_extension": ".py",
   "mimetype": "text/x-python",
   "name": "python",
   "nbconvert_exporter": "python",
   "pygments_lexer": "ipython3",
   "version": "3.7.7"
  }
 },
 "nbformat": 4,
 "nbformat_minor": 4
}
